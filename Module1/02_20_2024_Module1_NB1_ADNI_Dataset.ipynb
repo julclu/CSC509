{
 "cells": [
  {
   "cell_type": "markdown",
   "metadata": {
    "id": "p35itpasYuHj"
   },
   "source": [
    "# Module 1, Notebook 1 - Wrangling ADNI Imaging and Outcome Data  \n",
    "\n",
    "\n",
    "\n",
    "\n"
   ]
  },
  {
   "cell_type": "markdown",
   "metadata": {
    "id": "mGr5Of4SZOCs"
   },
   "source": [
    "## Instructions\n",
    "\n",
    "Please make a copy and rename it with your name (ex: Module1_NB1_Ilmi_Yoon). All grading points should be explored in the notebook but some can be done in a separate pdf file.\n",
    "\n",
    "*Graded questions will be listed with \"Q:\" followed by the corresponding points.*\n",
    "\n",
    "You will be submitting **a pdf** file containing **the url of your own Module1_NB1.**\n",
    "\n",
    "\n",
    "---\n",
    "\n"
   ]
  },
  {
   "cell_type": "markdown",
   "metadata": {
    "id": "gMAamhL0ZzTH"
   },
   "source": [
    "# Introduction\n",
    "\n",
    "## 1. Mounting and Accessing the Data"
   ]
  },
  {
   "cell_type": "markdown",
   "metadata": {
    "id": "aUBywQaWDH7c"
   },
   "source": [
    "First we will load important packages below:"
   ]
  },
  {
   "cell_type": "code",
   "execution_count": null,
   "metadata": {
    "id": "qIs3_GRnxVRi"
   },
   "outputs": [],
   "source": [
    "import numpy as np\n",
    "import os\n",
    "from pathlib import Path\n",
    "import glob\n",
    "import pandas as pd\n",
    "from collections import Counter\n",
    "import math\n",
    "from tqdm import tqdm"
   ]
  },
  {
   "cell_type": "markdown",
   "metadata": {
    "id": "lr4MEMJPDMFV"
   },
   "source": [
    "Because we are working on data stored in Google Cloud Storage bucket, the following steps will need to be taken:\n",
    "\n",
    "1. Install gcsfuse it is a package used to mount the cloud bucket on to your local environment.\n",
    "2. Authenticate your google account\n",
    "3. Create a new directory to mount the storage bucket\n",
    "4. Use gcsfuse to mount the storage bucket\n"
   ]
  },
  {
   "cell_type": "code",
   "execution_count": null,
   "metadata": {
    "colab": {
     "base_uri": "https://localhost:8080/"
    },
    "executionInfo": {
     "elapsed": 16296,
     "status": "ok",
     "timestamp": 1700004857361,
     "user": {
      "displayName": "Julia Cluceru",
      "userId": "13160445324342453863"
     },
     "user_tz": 480
    },
    "id": "kG4-4itJxaVm",
    "outputId": "4f35ac28-2404-42d3-9aed-ac7ec32ca1cf"
   },
   "outputs": [],
   "source": [
    "!apt-get update -y && apt-get install -y fuse lsb-release; \\\n",
    "    curl -L -O https://github.com/GoogleCloudPlatform/gcsfuse/releases/download/v0.41.12/gcsfuse_0.41.12_amd64.deb; \\\n",
    "    dpkg --install gcsfuse_0.41.12_amd64.deb; \\\n",
    "    apt-get update; \\\n",
    "    apt-get clean;"
   ]
  },
  {
   "cell_type": "markdown",
   "metadata": {
    "id": "7wyw0oAfDigM"
   },
   "source": [
    "Now call google authentication with the following code block and allow access in the pop-up window"
   ]
  },
  {
   "cell_type": "code",
   "execution_count": null,
   "metadata": {
    "id": "NiNvcwsCDhvg"
   },
   "outputs": [],
   "source": [
    "from google.colab import auth\n",
    "auth.authenticate_user()"
   ]
  },
  {
   "cell_type": "markdown",
   "metadata": {
    "id": "W4sAgkqwEOnK"
   },
   "source": [
    "We then need to set the project id and storage bucket id"
   ]
  },
  {
   "cell_type": "code",
   "execution_count": null,
   "metadata": {
    "colab": {
     "base_uri": "https://localhost:8080/"
    },
    "executionInfo": {
     "elapsed": 1836,
     "status": "ok",
     "timestamp": 1700004883520,
     "user": {
      "displayName": "Julia Cluceru",
      "userId": "13160445324342453863"
     },
     "user_tz": 480
    },
    "id": "SnrojkRCESyA",
    "outputId": "9fa2bea2-8e47-458e-bef9-d5937eac5f9a"
   },
   "outputs": [],
   "source": [
    "project_id = 'sfsu-378805'\n",
    "bucket_name = 'csc-509-image-files'\n",
    "!gcloud config set project {project_id}"
   ]
  },
  {
   "cell_type": "markdown",
   "metadata": {
    "id": "NOeCISxsEWkA"
   },
   "source": [
    "You can list using gsutil to see if we have the correct storage"
   ]
  },
  {
   "cell_type": "code",
   "execution_count": null,
   "metadata": {
    "colab": {
     "base_uri": "https://localhost:8080/"
    },
    "executionInfo": {
     "elapsed": 2809,
     "status": "ok",
     "timestamp": 1700004886326,
     "user": {
      "displayName": "Julia Cluceru",
      "userId": "13160445324342453863"
     },
     "user_tz": 480
    },
    "id": "pUyBtNryEWLQ",
    "outputId": "cdaa09ec-51fe-432a-90cf-b30567e88ad9"
   },
   "outputs": [],
   "source": [
    "!gsutil ls"
   ]
  },
  {
   "cell_type": "code",
   "execution_count": null,
   "metadata": {
    "id": "dhpEHyNDJ308"
   },
   "outputs": [],
   "source": [
    "!mkdir images"
   ]
  },
  {
   "cell_type": "markdown",
   "metadata": {
    "id": "obBiCXWBEiky"
   },
   "source": [
    "Call gcsfuse to mount the bucket"
   ]
  },
  {
   "cell_type": "code",
   "execution_count": null,
   "metadata": {
    "colab": {
     "base_uri": "https://localhost:8080/"
    },
    "executionInfo": {
     "elapsed": 380,
     "status": "ok",
     "timestamp": 1700004886703,
     "user": {
      "displayName": "Julia Cluceru",
      "userId": "13160445324342453863"
     },
     "user_tz": 480
    },
    "id": "DnWZK05aEkMa",
    "outputId": "19872cfb-0d9c-4a48-fa5a-f0a1ebecc41c"
   },
   "outputs": [],
   "source": [
    "!gcsfuse --implicit-dirs csc-509-image-files images"
   ]
  },
  {
   "cell_type": "code",
   "execution_count": null,
   "metadata": {
    "colab": {
     "base_uri": "https://localhost:8080/"
    },
    "executionInfo": {
     "elapsed": 230,
     "status": "ok",
     "timestamp": 1700004886931,
     "user": {
      "displayName": "Julia Cluceru",
      "userId": "13160445324342453863"
     },
     "user_tz": 480
    },
    "id": "w6PgFVmIEnaG",
    "outputId": "9ebc4f7b-11d8-44a1-b1f0-dd2df69e0db8"
   },
   "outputs": [],
   "source": [
    "!ls images/"
   ]
  },
  {
   "cell_type": "markdown",
   "metadata": {
    "id": "ar-F4l8oitt3"
   },
   "source": [
    "## 2. Investigating the types of imaging data"
   ]
  },
  {
   "cell_type": "markdown",
   "metadata": {
    "id": "lx3CGRIxGmQe"
   },
   "source": [
    "In this section of the notebook, we will investgate the types of imaging data that are in the ADNI dataset.\n",
    "\n",
    "Some brief background on ADNI:\n",
    "* ADNI stands for the Alzheimer's Disease Neuroimaging Initiative and is a longstanding effort from many institutions around the country to amass a BIG imaging dataset that follows individuals for long periods of time\n",
    "* It's been going on since 2004 and since then, the evolution of imaging technologies has advanced and therefore data like MRI and PET imaging have gotten better (and therefore different!) over time\n",
    "* ADNI is the biggest public neuroimaging dataset for Alzheimer's (and maybe of all neurological diseases!)\n",
    "* ADNI collects PET and MRI imaging for reasons described in detail in your lectures\n",
    "* Due to the enormity of the data, it is hard to download and upload. It was a challenge to get the data for you! Though we worked hard to make sure you got some data from it, we currently have the MRI and PET data stored in two separate places: **The Module1_ADNI folder holds the PET data you will be using, and Module1_ADNI_New holds the MRI data you will be using**"
   ]
  },
  {
   "cell_type": "markdown",
   "metadata": {
    "id": "H1WdwTqoxZIf"
   },
   "source": [
    "We will start with investigating the MRI data, and building an example dataset to use for deep learning:"
   ]
  },
  {
   "cell_type": "code",
   "execution_count": null,
   "metadata": {
    "id": "OyHP4mSDvWih"
   },
   "outputs": [],
   "source": [
    "DATA_PATH = 'images/Module2_ADNI_New/MRI/ADNI'"
   ]
  },
  {
   "cell_type": "markdown",
   "metadata": {
    "id": "ckSV11ekdawL"
   },
   "source": [
    "There are a few ways that you can look at whats inside of a folder, depending on whether you'd like to use a python \"os\" module (os standing for operating system) or whether you'd like to use the terminal/command line (using a \"!\" before something you'd type into the terminal). I'm showing you both ways below:"
   ]
  },
  {
   "cell_type": "code",
   "execution_count": null,
   "metadata": {
    "colab": {
     "base_uri": "https://localhost:8080/"
    },
    "executionInfo": {
     "elapsed": 1395,
     "status": "ok",
     "timestamp": 1700004888477,
     "user": {
      "displayName": "Julia Cluceru",
      "userId": "13160445324342453863"
     },
     "user_tz": 480
    },
    "id": "Uq64F5Q4dUHM",
    "outputId": "49f7a501-cc79-49ac-c445-f06839bfff47"
   },
   "outputs": [],
   "source": [
    "os.listdir(DATA_PATH)[:10]"
   ]
  },
  {
   "cell_type": "code",
   "execution_count": null,
   "metadata": {
    "colab": {
     "base_uri": "https://localhost:8080/"
    },
    "executionInfo": {
     "elapsed": 1202,
     "status": "ok",
     "timestamp": 1700004889677,
     "user": {
      "displayName": "Julia Cluceru",
      "userId": "13160445324342453863"
     },
     "user_tz": 480
    },
    "id": "F3cSsUvIEyXQ",
    "outputId": "86a34fe1-111d-49c4-95c2-c83da1c60e0c"
   },
   "outputs": [],
   "source": [
    "!ls {DATA_PATH} | head"
   ]
  },
  {
   "cell_type": "markdown",
   "metadata": {
    "id": "ZuaDXBN9d3z5"
   },
   "source": [
    "So these look like unique patient identifiers, which I know because I've worked with many patient datasets before.\n",
    "\n",
    "**Question (0.5 points)**: How many patients are in this dataset?"
   ]
  },
  {
   "cell_type": "code",
   "execution_count": null,
   "metadata": {
    "id": "m-o6CosReQcS"
   },
   "outputs": [],
   "source": []
  },
  {
   "cell_type": "markdown",
   "metadata": {
    "id": "XYblmOea-mmN"
   },
   "source": [
    "Pick a random patient and look into the data in their folder:"
   ]
  },
  {
   "cell_type": "code",
   "execution_count": null,
   "metadata": {
    "colab": {
     "base_uri": "https://localhost:8080/"
    },
    "executionInfo": {
     "elapsed": 1252,
     "status": "ok",
     "timestamp": 1700004890927,
     "user": {
      "displayName": "Julia Cluceru",
      "userId": "13160445324342453863"
     },
     "user_tz": 480
    },
    "id": "BvdZKtgRflXY",
    "outputId": "db685f15-391d-48bf-f0f1-5247e9b94f26"
   },
   "outputs": [],
   "source": [
    "first_patient = os.listdir(DATA_PATH)[0]\n",
    "os.listdir(DATA_PATH+\"/\"+first_patient)"
   ]
  },
  {
   "cell_type": "markdown",
   "metadata": {
    "id": "IUevDj6tzS_s"
   },
   "source": [
    "It looks like the folder inside the patient folder represents an MRI file. It has the words \"axial\" and \"T2\" which we have learned are associated with MRI.\n",
    "\n",
    "Below, we investigate what the most common types of MRI are in the first 100 patients listed in the MRI folder:"
   ]
  },
  {
   "cell_type": "code",
   "execution_count": null,
   "metadata": {
    "colab": {
     "base_uri": "https://localhost:8080/"
    },
    "executionInfo": {
     "elapsed": 38863,
     "status": "ok",
     "timestamp": 1700004929788,
     "user": {
      "displayName": "Julia Cluceru",
      "userId": "13160445324342453863"
     },
     "user_tz": 480
    },
    "id": "zGBX4j-CyXrl",
    "outputId": "b2b49fa2-bfce-4945-eac2-cfc0a5fdab5a"
   },
   "outputs": [],
   "source": [
    "## Using glob.glob to use asterisks (\"*\") as wildcards to look inside folders at files\n",
    "patient_folder_insides = glob.glob(os.path.join(DATA_PATH, '*', '*'))\n",
    "print(patient_folder_insides[0])"
   ]
  },
  {
   "cell_type": "code",
   "execution_count": null,
   "metadata": {
    "id": "Ri9Vy0tklPX_"
   },
   "outputs": [],
   "source": [
    "## Since we have a lot of patients,\n",
    "## and the i/o time on these colab notebooks isn't great,\n",
    "## we want to just look at the first 100 patients and their MRI folders\n",
    "## to get a sense of what's inside:\n",
    "\n",
    "first_100 = patient_folder_insides[:100]"
   ]
  },
  {
   "cell_type": "code",
   "execution_count": null,
   "metadata": {
    "colab": {
     "base_uri": "https://localhost:8080/"
    },
    "executionInfo": {
     "elapsed": 171,
     "status": "ok",
     "timestamp": 1700004946366,
     "user": {
      "displayName": "Julia Cluceru",
      "userId": "13160445324342453863"
     },
     "user_tz": 480
    },
    "id": "Ci__Av3nlRU8",
    "outputId": "fa2828f1-6e37-45b9-faeb-cfa27d229394"
   },
   "outputs": [],
   "source": [
    "## We can use a list comprehension (below) to look at only the last element\n",
    "## of the file name when we split by the slashes in the full file path:\n",
    "mri_sequences = [x.split('/')[-1] for x in first_100]\n",
    "print(mri_sequences[0])\n",
    "## We use the \"Counter\" function to count the instances of\n",
    "## MRI sequences that are the same; that way we can find out how many\n",
    "## Axial_PD_T2_FSE are in the first 100 patients for example:\n",
    "Counter(mri_sequences).most_common()"
   ]
  },
  {
   "cell_type": "markdown",
   "metadata": {
    "id": "o5pZ1fHT8DXu"
   },
   "source": [
    "We notice that MPRAGE, Field Mapping, and Sagittal_3D_FLAIR are the most common types of MRI within the dataset. Thinking from a big-picture data science perspective, we'd be best off using the most common types of MRI that most of the patients have in their folders.\n",
    "* MPRAGE is essentially a fancy kind of T1 MRI image. For our purposes, you don't need to know much more, but if you're interested, you can look [here](https://https://mriquestions.com/mp-rage-v-mr2rage.html) for more information!\n",
    "* Field mapping is not very relevant for us - you can usually use it as a baseline for additional interesting scans, but we won't need it here.\n",
    "* 3D FLAIR is the same T2-FLAIR that we discussed in class, but acquired in a slightly different way in the scanner, showing slightly different properties of the anatomy.\n",
    "* You can see many also have a T2 FSE and T2 star image, which may be useful if needed, but that's still not in most of our patients. So we will ignore those for now."
   ]
  },
  {
   "cell_type": "markdown",
   "metadata": {
    "id": "RumLrh2c_84t"
   },
   "source": [
    "Now we want to pick a patient that has a few different kinds of MRI. So here we'll list the patients with  4 or more folders inside:"
   ]
  },
  {
   "cell_type": "code",
   "execution_count": null,
   "metadata": {
    "colab": {
     "base_uri": "https://localhost:8080/"
    },
    "executionInfo": {
     "elapsed": 6601,
     "status": "ok",
     "timestamp": 1700005031478,
     "user": {
      "displayName": "Julia Cluceru",
      "userId": "13160445324342453863"
     },
     "user_tz": 480
    },
    "id": "fYuIj60myeEF",
    "outputId": "076fcb13-2839-4862-9399-575920eac44f"
   },
   "outputs": [],
   "source": [
    "for patient in os.listdir(DATA_PATH)[:100]:\n",
    "  if len(os.listdir(os.path.join(DATA_PATH, patient))) >= 4:\n",
    "    print(patient, len(os.listdir(os.path.join(DATA_PATH, patient))))"
   ]
  },
  {
   "cell_type": "markdown",
   "metadata": {
    "id": "Zb6f3H4qHbld"
   },
   "source": [
    "# 3. Looking at a single patient's images\n",
    " In this section, we want to look at what an example patient's images might look like. We'll practice loading in the data and observing the differences between MRI series of the same patient."
   ]
  },
  {
   "cell_type": "markdown",
   "metadata": {
    "id": "hVUIMSoSC6Nn"
   },
   "source": [
    "Let's use the first patient and compare"
   ]
  },
  {
   "cell_type": "code",
   "execution_count": null,
   "metadata": {
    "colab": {
     "base_uri": "https://localhost:8080/"
    },
    "executionInfo": {
     "elapsed": 186,
     "status": "ok",
     "timestamp": 1700005059124,
     "user": {
      "displayName": "Julia Cluceru",
      "userId": "13160445324342453863"
     },
     "user_tz": 480
    },
    "id": "0QkK94S0B5a9",
    "outputId": "fbbb8c9c-39f7-4787-9163-a61318c91d63"
   },
   "outputs": [],
   "source": [
    "patient_id_test = '002_S_6066'\n",
    "os.listdir(os.path.join(DATA_PATH, patient_id_test))"
   ]
  },
  {
   "cell_type": "code",
   "execution_count": null,
   "metadata": {
    "id": "GEaR5FU9Bh1q"
   },
   "outputs": [],
   "source": [
    "image_type_to_test = 'Sagittal_3D_FLAIR'"
   ]
  },
  {
   "cell_type": "code",
   "execution_count": null,
   "metadata": {
    "id": "2kiaw6DU5GWV"
   },
   "outputs": [],
   "source": [
    "## Looking at the files, picking one of the descriptions above and looking at the file structure:\n",
    "test_flair_image_path = os.path.join(DATA_PATH,patient_id_test,image_type_to_test)\n"
   ]
  },
  {
   "cell_type": "markdown",
   "metadata": {
    "id": "bVNC_slCOu_j"
   },
   "source": [
    "**Question 2 (0.5 points):** What is the structure of the folders within the patient? Once you get to a file inside this patient, what kinds of folders are contained within?"
   ]
  },
  {
   "cell_type": "code",
   "execution_count": null,
   "metadata": {
    "id": "iPVPW6cjOuJS"
   },
   "outputs": [],
   "source": []
  },
  {
   "cell_type": "code",
   "execution_count": null,
   "metadata": {
    "colab": {
     "base_uri": "https://localhost:8080/",
     "height": 53
    },
    "executionInfo": {
     "elapsed": 381,
     "status": "ok",
     "timestamp": 1700005769017,
     "user": {
      "displayName": "Julia Cluceru",
      "userId": "13160445324342453863"
     },
     "user_tz": 480
    },
    "id": "GxgaSsnQ-UOp",
    "outputId": "9a6d701e-b803-491c-e543-95379284611e"
   },
   "outputs": [],
   "source": [
    "## Let's look at one of the files within this image type:\n",
    "glob.glob(os.path.join(DATA_PATH, patient_id_test, image_type_to_test, \"*\", \"*\", \"*\"))[0]"
   ]
  },
  {
   "cell_type": "markdown",
   "metadata": {
    "id": "H6ceF0UtPb_c"
   },
   "source": [
    "It appears to be a \".dcm\" file, let's see how many there are inside:"
   ]
  },
  {
   "cell_type": "code",
   "execution_count": null,
   "metadata": {
    "colab": {
     "base_uri": "https://localhost:8080/"
    },
    "executionInfo": {
     "elapsed": 411,
     "status": "ok",
     "timestamp": 1700006694191,
     "user": {
      "displayName": "Julia Cluceru",
      "userId": "13160445324342453863"
     },
     "user_tz": 480
    },
    "id": "dr6J2hgW41Vb",
    "outputId": "7f3e5d91-bf0b-40db-de2c-3a75114afb74"
   },
   "outputs": [],
   "source": [
    "path_to_files = os.path.join(DATA_PATH, patient_id_test, image_type_to_test, \"*\", \"*\", \"*\")\n",
    "files = glob.glob(path_to_files)\n",
    "len(files)"
   ]
  },
  {
   "cell_type": "markdown",
   "metadata": {
    "id": "P0VKpsrMqa5z"
   },
   "source": [
    "These files all have the extension \".dcm\", which means that it's a DICOM file. These types of files have both pixel data and meta-data associated with the pixel data (image). Therefore, they require a special reader in python. A quick google search will tell you to use pydicom, but Colab doesn't have that pre-installed. We'll install it below:"
   ]
  },
  {
   "cell_type": "code",
   "execution_count": null,
   "metadata": {
    "colab": {
     "base_uri": "https://localhost:8080/"
    },
    "executionInfo": {
     "elapsed": 7289,
     "status": "ok",
     "timestamp": 1700005832043,
     "user": {
      "displayName": "Julia Cluceru",
      "userId": "13160445324342453863"
     },
     "user_tz": 480
    },
    "id": "FNgqkPNY5ffg",
    "outputId": "02ba75e6-e301-48ad-8bd0-66235bece029"
   },
   "outputs": [],
   "source": [
    "!pip install pydicom"
   ]
  },
  {
   "cell_type": "code",
   "execution_count": null,
   "metadata": {
    "id": "jeAw-ne3_8Cl"
   },
   "outputs": [],
   "source": [
    "import pydicom\n",
    "import matplotlib.pyplot as plt\n",
    "import random"
   ]
  },
  {
   "cell_type": "code",
   "execution_count": null,
   "metadata": {
    "id": "1KpMF-eBQOu9"
   },
   "outputs": [],
   "source": [
    "random.seed(10)"
   ]
  },
  {
   "cell_type": "markdown",
   "metadata": {
    "id": "-TFFHYNcPwS5"
   },
   "source": [
    "Let's one of the DICOM images, I'll just pick a random one to read in from this folder:"
   ]
  },
  {
   "cell_type": "code",
   "execution_count": null,
   "metadata": {
    "colab": {
     "base_uri": "https://localhost:8080/"
    },
    "executionInfo": {
     "elapsed": 183,
     "status": "ok",
     "timestamp": 1700006252622,
     "user": {
      "displayName": "Julia Cluceru",
      "userId": "13160445324342453863"
     },
     "user_tz": 480
    },
    "id": "_iWTCQBWsfbn",
    "outputId": "daa7890d-6f0f-4046-ab5c-31bffab5f9d3"
   },
   "outputs": [],
   "source": [
    "random_file = random.sample(files, 1)\n",
    "random_file"
   ]
  },
  {
   "cell_type": "code",
   "execution_count": null,
   "metadata": {
    "id": "e3cnDJB0QRnU"
   },
   "outputs": [],
   "source": [
    "first_dicom_dataset = pydicom.dcmread(random_file[0])"
   ]
  },
  {
   "cell_type": "code",
   "execution_count": null,
   "metadata": {
    "colab": {
     "base_uri": "https://localhost:8080/"
    },
    "executionInfo": {
     "elapsed": 166,
     "status": "ok",
     "timestamp": 1700006032561,
     "user": {
      "displayName": "Julia Cluceru",
      "userId": "13160445324342453863"
     },
     "user_tz": 480
    },
    "id": "ui0p-HRhs1hz",
    "outputId": "9cae8a32-6b25-41d5-c27c-f34841d60447"
   },
   "outputs": [],
   "source": [
    "## Looking at the components of a Dicom image/dataset:\n",
    "first_dicom_dataset"
   ]
  },
  {
   "cell_type": "markdown",
   "metadata": {
    "id": "y8ulSYgStNKp"
   },
   "source": [
    "When you view the variable, you'll notice different numerical \"tags\". Each tag keeps a unique data field. Some important DICOM data fields for MRI images include:\n",
    "\n",
    "*   Series Description\n",
    "*   Pixel Data\n",
    "\n",
    "You can usually find nearly any information you're looking for with respect to the image acqusition in these DICOM fields. Since some of these are manually input into the scanner, it is possible that the data field is subject to error. Let's access some of the tags and then look at the image:\n"
   ]
  },
  {
   "cell_type": "code",
   "execution_count": null,
   "metadata": {
    "colab": {
     "base_uri": "https://localhost:8080/"
    },
    "executionInfo": {
     "elapsed": 186,
     "status": "ok",
     "timestamp": 1700006230546,
     "user": {
      "displayName": "Julia Cluceru",
      "userId": "13160445324342453863"
     },
     "user_tz": 480
    },
    "id": "Zt8HU6ADszlA",
    "outputId": "176ec872-cff5-4e33-a01e-93f334e11e81"
   },
   "outputs": [],
   "source": [
    "\n",
    "## If we want to know the manufacturer that this DICOM image was acquired at,\n",
    "## you can access a tag by its numerical value like this:\n",
    "first_dicom_dataset[0x8, 0x70]\n",
    "## Note that we have to use 0x<number> format; otherwise Python won't know\n",
    "## the 0s preceding the code exist."
   ]
  },
  {
   "cell_type": "code",
   "execution_count": null,
   "metadata": {
    "colab": {
     "base_uri": "https://localhost:8080/"
    },
    "executionInfo": {
     "elapsed": 2,
     "status": "ok",
     "timestamp": 1700006231726,
     "user": {
      "displayName": "Julia Cluceru",
      "userId": "13160445324342453863"
     },
     "user_tz": 480
    },
    "id": "GVgdjm5ivuTG",
    "outputId": "30014812-1682-4e63-9f5c-6c8202389555"
   },
   "outputs": [],
   "source": [
    "\n",
    "## You can also use the name of the element:\n",
    "first_dicom_dataset['Manufacturer']"
   ]
  },
  {
   "cell_type": "code",
   "execution_count": null,
   "metadata": {
    "colab": {
     "base_uri": "https://localhost:8080/",
     "height": 35
    },
    "executionInfo": {
     "elapsed": 179,
     "status": "ok",
     "timestamp": 1700006232684,
     "user": {
      "displayName": "Julia Cluceru",
      "userId": "13160445324342453863"
     },
     "user_tz": 480
    },
    "id": "NgxowSICv2q5",
    "outputId": "db92465c-bcf1-46aa-f385-4d9561c01726"
   },
   "outputs": [],
   "source": [
    "## Or if you want the value only:\n",
    "first_dicom_dataset.Manufacturer"
   ]
  },
  {
   "cell_type": "markdown",
   "metadata": {
    "id": "VBHJomJXwFqi"
   },
   "source": [
    "Now let's look at the image itself, which is located at the \"pixel_array\" element of the DICOM dataset:"
   ]
  },
  {
   "cell_type": "code",
   "execution_count": null,
   "metadata": {
    "colab": {
     "base_uri": "https://localhost:8080/"
    },
    "executionInfo": {
     "elapsed": 194,
     "status": "ok",
     "timestamp": 1700006234306,
     "user": {
      "displayName": "Julia Cluceru",
      "userId": "13160445324342453863"
     },
     "user_tz": 480
    },
    "id": "T2kUvnjksrC0",
    "outputId": "3c71b17a-be36-4ee8-a13c-0dc7fbbe0e36"
   },
   "outputs": [],
   "source": [
    "first_dicom_dataset.pixel_array.shape"
   ]
  },
  {
   "cell_type": "code",
   "execution_count": null,
   "metadata": {
    "colab": {
     "base_uri": "https://localhost:8080/",
     "height": 453
    },
    "executionInfo": {
     "elapsed": 534,
     "status": "ok",
     "timestamp": 1700006236227,
     "user": {
      "displayName": "Julia Cluceru",
      "userId": "13160445324342453863"
     },
     "user_tz": 480
    },
    "id": "KUyqry1StMVh",
    "outputId": "5efd89b0-c74f-4802-a436-25693524a39f"
   },
   "outputs": [],
   "source": [
    "plt.imshow(first_dicom_dataset.pixel_array, cmap = 'gray')"
   ]
  },
  {
   "cell_type": "markdown",
   "metadata": {
    "id": "KGtPZLEeBjsg"
   },
   "source": [
    "We notice that there is a number associated with the name of the random .dcm file that we picked; I have a hunch that this is the placement of the slice within the volume, aka slice number. We should confirm that this is the correct interpretation of the name. To do that, let's load the dicom slice datasets into a dictionary with the key as this identifier, then sort the keys & plot the slices:"
   ]
  },
  {
   "cell_type": "code",
   "execution_count": null,
   "metadata": {
    "id": "mXK2hM4HvAoV"
   },
   "outputs": [],
   "source": [
    "def read_all_dicom_slices(dicom_directory,\n",
    "                         ):\n",
    "  \"\"\"\n",
    "  Will read in the images from a single dicom folder and return a dictionary of\n",
    "  those images with the key as the presumed slice number, and the value being the pixel array.\n",
    "\n",
    "  dicom_directory: Path or string that leads to the folder containing the slices\n",
    "\n",
    "  \"\"\"\n",
    "  dicom_image_dict = {}\n",
    "  for image in glob.glob(dicom_directory):\n",
    "    key = image.split('/')[-1].split('_')[-3]\n",
    "    dicom_image_dict[key]= pydicom.dcmread(image)\n",
    "  return dicom_image_dict"
   ]
  },
  {
   "cell_type": "code",
   "execution_count": null,
   "metadata": {
    "id": "Se6V7CzEvHqV"
   },
   "outputs": [],
   "source": [
    "first_dicom_volume = read_all_dicom_slices(path_to_files)"
   ]
  },
  {
   "cell_type": "code",
   "execution_count": null,
   "metadata": {
    "id": "P24Ip_0sZZfG"
   },
   "outputs": [],
   "source": [
    "def visualize_dicom_volume(dicom_volume: dict):\n",
    "  \"\"\"\n",
    "  Takes a dicom volume, gives them the proper titles.\n",
    "  dicom_volume,  e.g. {'1': <pixel_data>, ...}\n",
    "  output is to plot an appropriate size image of the voulme that one is interested in.\n",
    "  \"\"\"\n",
    "  num_rows = math.ceil(len(dicom_volume.keys())/5)\n",
    "  keys_sorted = [str(x) for x in sorted([int(x) for x in list(dicom_volume.keys())])]\n",
    "  plt.figure(figsize = (20, 15*num_rows))\n",
    "  for i, key in enumerate(keys_sorted): # iterates through the dictionary, while the enumerate function keeps track of the index with i\n",
    "      plt.subplot(5*num_rows,5,i+1)    # the number of images in the grid\n",
    "      value = dicom_volume[key]\n",
    "      img = value.pixel_array\n",
    "      plt.imshow(img, cmap= 'gray')\n",
    "      plt.axis('off')\n",
    "      plt.title(key)\n",
    "  plt.show()"
   ]
  },
  {
   "cell_type": "code",
   "execution_count": null,
   "metadata": {
    "colab": {
     "base_uri": "https://localhost:8080/",
     "height": 1000,
     "output_embedded_package_id": "1hKzkWP1fNEcJ2MYVVaxOQQKw0SPJ4waB"
    },
    "executionInfo": {
     "elapsed": 20823,
     "status": "ok",
     "timestamp": 1700006831471,
     "user": {
      "displayName": "Julia Cluceru",
      "userId": "13160445324342453863"
     },
     "user_tz": 480
    },
    "id": "gLMf34qcZtv3",
    "outputId": "a5b9581b-0e68-4bc3-922d-703608dff981"
   },
   "outputs": [],
   "source": [
    "visualize_dicom_volume(first_dicom_volume)"
   ]
  },
  {
   "cell_type": "markdown",
   "metadata": {
    "id": "lQ3IkJ12EZrF"
   },
   "source": [
    "This one is interesting! It doesn't say whether its T1 weighted or T2 weighted in the series description. Notice how the volume doesn't go through the whole brain, only the part containing the hippocampus (as it is named \"HighResHippocampus\").\n",
    "\n",
    "* **Question 3 (0.5 points)** Load in and visualize the HighResHippocampus image in the volume. Is this a T1 or T2 weighted image?\n",
    "* **Question 2 (0.5 points)** How can you tell?"
   ]
  },
  {
   "cell_type": "markdown",
   "metadata": {
    "id": "zic31eTYDGEl"
   },
   "source": [
    "# 4. Finding the center slices of all the MRI volumes:"
   ]
  },
  {
   "cell_type": "markdown",
   "metadata": {
    "id": "4mv6B3vHGhvO"
   },
   "source": [
    "In many biomedical imaging data science applications, you may not want to use the whole volume, but rather just a single slice of the volume. Of course, you would want the most representative slice, which is probably the middle slice of the volume. In that case, we'd need to find the middle slice somehow. Nifti volumes make it a bit easier.\n",
    "\n",
    "Here with DICOM imaging, we need to use one of a few techniques in order to find the center slice. The following could work:\n",
    "* Use the name of the DICOM image, as they all contain the slice. Pro would be that this is easy, the con being that often we can't trust file names as a source of truth.\n",
    "* Use the DICOM metadata to figure out the geometric center of the volume, and then find the closest slice to that. Pro would be more accuracy, while the con is that the code is much more complicated, and loading in metadata definitely takes a lot longer than just looking at a filename.\n",
    "\n",
    "In this example, we'll just use the filename."
   ]
  },
  {
   "cell_type": "markdown",
   "metadata": {
    "id": "2nWLPPCqI0cL"
   },
   "source": [
    "Normally,  we could just use `glob` to get the all of the slices, but it's running too slow. Sometimes you might have to use creative techniques to get things to run faster, or at least see how long they will take. Here, we're using tqdm to show the status bar to see how long it will take:"
   ]
  },
  {
   "cell_type": "code",
   "execution_count": null,
   "metadata": {
    "colab": {
     "base_uri": "https://localhost:8080/"
    },
    "executionInfo": {
     "elapsed": 208984,
     "status": "ok",
     "timestamp": 1683053693414,
     "user": {
      "displayName": "Neha Anegondi",
      "userId": "13446886544877956139"
     },
     "user_tz": 420
    },
    "id": "qG9hVUF7IG7B",
    "outputId": "649841e5-1938-43bb-f20d-7fd7f1b3f83e"
   },
   "outputs": [],
   "source": [
    "path_list_all_mri = []\n",
    "for patient in tqdm(os.listdir(DATA_PATH)):\n",
    "  patient_mri = glob.glob(os.path.join(DATA_PATH, patient, '*', '*', '*'))\n",
    "  path_list_all_mri +=patient_mri"
   ]
  },
  {
   "cell_type": "code",
   "execution_count": null,
   "metadata": {
    "colab": {
     "base_uri": "https://localhost:8080/",
     "height": 36
    },
    "executionInfo": {
     "elapsed": 21,
     "status": "ok",
     "timestamp": 1683053693415,
     "user": {
      "displayName": "Neha Anegondi",
      "userId": "13446886544877956139"
     },
     "user_tz": 420
    },
    "id": "nV-61SpKvbHH",
    "outputId": "e93d603a-975d-4f34-ba1b-384ac5c2b0bb"
   },
   "outputs": [],
   "source": [
    "path_list_all_mri[0]"
   ]
  },
  {
   "cell_type": "code",
   "execution_count": null,
   "metadata": {
    "colab": {
     "base_uri": "https://localhost:8080/"
    },
    "executionInfo": {
     "elapsed": 7,
     "status": "ok",
     "timestamp": 1683053693415,
     "user": {
      "displayName": "Neha Anegondi",
      "userId": "13446886544877956139"
     },
     "user_tz": 420
    },
    "id": "8C4UIl2AH3QZ",
    "outputId": "bdcbbab8-79d2-417d-dd47-dc41275a800e"
   },
   "outputs": [],
   "source": [
    "\n",
    "path_list_all_mri[:10]"
   ]
  },
  {
   "cell_type": "code",
   "execution_count": null,
   "metadata": {
    "colab": {
     "base_uri": "https://localhost:8080/"
    },
    "executionInfo": {
     "elapsed": 426,
     "status": "ok",
     "timestamp": 1683053693837,
     "user": {
      "displayName": "Neha Anegondi",
      "userId": "13446886544877956139"
     },
     "user_tz": 420
    },
    "id": "e1nX02u1vo8j",
    "outputId": "1838a396-e511-45a6-8613-ccd7a00b333d"
   },
   "outputs": [],
   "source": [
    "num_slices = len(os.listdir(path_list_all_mri[0]))\n",
    "num_slices"
   ]
  },
  {
   "cell_type": "markdown",
   "metadata": {
    "id": "cXb0j2wKJFFr"
   },
   "source": [
    "In this part, we could get the middle slices for every single type of MRI, but we have already discussed that it is likely that things like field mapping won't be useful for any kind of analysis. It is also the case that localizers, etc. will not be useful. Here, since this is a computationally expensive procedure, it would be best to choose an MRI type of interest to get the middle slices. I will show you how to get the most common type of MRI, MPRAGE. But this can be done for any kind of MRI of interest."
   ]
  },
  {
   "cell_type": "code",
   "execution_count": null,
   "metadata": {
    "id": "Kyd7weuAJ8tx"
   },
   "outputs": [],
   "source": [
    "## Subset your path list down to any image with MPRAGE in the filename:\n",
    "path_list_mprage = [x for x in path_list_all_mri if 'rage' in x.lower()]"
   ]
  },
  {
   "cell_type": "code",
   "execution_count": null,
   "metadata": {
    "colab": {
     "base_uri": "https://localhost:8080/"
    },
    "executionInfo": {
     "elapsed": 141222,
     "status": "ok",
     "timestamp": 1683053835058,
     "user": {
      "displayName": "Neha Anegondi",
      "userId": "13446886544877956139"
     },
     "user_tz": 420
    },
    "id": "rYZ4YEY3Zx0v",
    "outputId": "12a96dc1-a253-49b3-d141-66262e07d3fe"
   },
   "outputs": [],
   "source": [
    "## Here, we want to go through the path list of uniform voxels and find the middle \"center\" slice of the volume\n",
    "## and record the path to it:\n",
    "middle_slices = []\n",
    "for DATA_PATH in tqdm(path_list_mprage): # Using the tqdm package to show a status bar based on how quickly the process is running\n",
    "  num_slices = len(os.listdir(DATA_PATH))\n",
    "  middle_slice = str(num_slices//2)\n",
    "  middle_slice_1 = str(num_slices//2+1)\n",
    "  middle_slice_neg1 = str(num_slices//2-1)\n",
    "  # print(middle_slice)\n",
    "  if len(glob.glob(DATA_PATH+'/*_'+middle_slice+\"_*\")) > 0:\n",
    "    middle_slices.append(glob.glob(DATA_PATH+'/*_'+middle_slice+\"_*\"))\n",
    "  elif len(glob.glob(DATA_PATH+'/*_'+middle_slice_1+\"_*\")) > 0:\n",
    "    middle_slices.append(glob.glob(DATA_PATH+'/*_'+middle_slice_1+\"_*\"))\n",
    "  elif len(glob.glob(DATA_PATH+'/*_'+middle_slice_neg1+\"_*\")) > 0:\n",
    "    middle_slices.append(glob.glob(DATA_PATH+'/*_'+middle_slice_neg1+\"_*\"))\n",
    "  else: continue\n",
    "    # print(DATA_PATH)"
   ]
  },
  {
   "cell_type": "code",
   "execution_count": null,
   "metadata": {
    "colab": {
     "base_uri": "https://localhost:8080/"
    },
    "executionInfo": {
     "elapsed": 15,
     "status": "ok",
     "timestamp": 1683053835058,
     "user": {
      "displayName": "Neha Anegondi",
      "userId": "13446886544877956139"
     },
     "user_tz": 420
    },
    "id": "MmbcKgCg90J4",
    "outputId": "1634afe5-f59a-4671-a636-0489e4f8d406"
   },
   "outputs": [],
   "source": [
    "len(middle_slices)"
   ]
  },
  {
   "cell_type": "markdown",
   "metadata": {
    "id": "JzYGDgaQxgwo"
   },
   "source": [
    "Creating a CSV file from these middle slices:"
   ]
  },
  {
   "cell_type": "code",
   "execution_count": null,
   "metadata": {
    "id": "AHhb6KccLuWf"
   },
   "outputs": [],
   "source": [
    "DATA_PATH = Path('images/Module2_ADNI_New/MRI/ADNI')"
   ]
  },
  {
   "cell_type": "code",
   "execution_count": null,
   "metadata": {
    "id": "lTR9h--f92bH"
   },
   "outputs": [],
   "source": [
    "middle_slice_df = pd.DataFrame({'FILEPATH_MIDDLE_SLICES': [x[0] for x in middle_slices]})"
   ]
  },
  {
   "cell_type": "code",
   "execution_count": null,
   "metadata": {
    "colab": {
     "base_uri": "https://localhost:8080/"
    },
    "executionInfo": {
     "elapsed": 17,
     "status": "ok",
     "timestamp": 1683053835301,
     "user": {
      "displayName": "Neha Anegondi",
      "userId": "13446886544877956139"
     },
     "user_tz": 420
    },
    "id": "2XWj5icZ_YkH",
    "outputId": "bb182dc7-c6ee-4881-e6ab-ee7ab27b2f1a"
   },
   "outputs": [],
   "source": [
    "middle_slice_df.loc[0, 'FILEPATH_MIDDLE_SLICES']\n"
   ]
  },
  {
   "cell_type": "code",
   "execution_count": null,
   "metadata": {
    "colab": {
     "base_uri": "https://localhost:8080/"
    },
    "executionInfo": {
     "elapsed": 15,
     "status": "ok",
     "timestamp": 1683053835301,
     "user": {
      "displayName": "Neha Anegondi",
      "userId": "13446886544877956139"
     },
     "user_tz": 420
    },
    "id": "WFw1z8bdurbz",
    "outputId": "38f67409-2c5d-45fe-9f53-261ea0e9becb"
   },
   "outputs": [],
   "source": [
    "middle_slice_df['SLICE_NUM'] = [x.split('_')[-3] for x in middle_slice_df.FILEPATH_MIDDLE_SLICES]\n",
    "middle_slice_df.SLICE_NUM.value_counts()"
   ]
  },
  {
   "cell_type": "code",
   "execution_count": null,
   "metadata": {
    "id": "754BneKAx-Bu"
   },
   "outputs": [],
   "source": [
    "middle_slice_df['MRI_TYPE'] = [x.split('/')[5] for x in middle_slice_df.FILEPATH_MIDDLE_SLICES]"
   ]
  },
  {
   "cell_type": "code",
   "execution_count": null,
   "metadata": {
    "id": "gGyiQBVbX28U"
   },
   "outputs": [],
   "source": [
    "middle_slice_df['Subject'] = [x.split('/')[4] for x in middle_slice_df.FILEPATH_MIDDLE_SLICES]"
   ]
  },
  {
   "cell_type": "code",
   "execution_count": null,
   "metadata": {
    "colab": {
     "base_uri": "https://localhost:8080/"
    },
    "executionInfo": {
     "elapsed": 12,
     "status": "ok",
     "timestamp": 1683053835302,
     "user": {
      "displayName": "Neha Anegondi",
      "userId": "13446886544877956139"
     },
     "user_tz": 420
    },
    "id": "MpTZnIZAyTrc",
    "outputId": "2fb50a67-d954-4c61-d8c9-301b0ed3be2f"
   },
   "outputs": [],
   "source": [
    "\n",
    "middle_slice_df.MRI_TYPE.value_counts()"
   ]
  },
  {
   "cell_type": "code",
   "execution_count": null,
   "metadata": {
    "colab": {
     "base_uri": "https://localhost:8080/"
    },
    "executionInfo": {
     "elapsed": 11,
     "status": "ok",
     "timestamp": 1683053835303,
     "user": {
      "displayName": "Neha Anegondi",
      "userId": "13446886544877956139"
     },
     "user_tz": 420
    },
    "id": "gA9yI1FgLcj_",
    "outputId": "78bd76b1-31b4-4798-9280-0510cd3c1bee"
   },
   "outputs": [],
   "source": [
    "\n",
    "DATA_PATH"
   ]
  },
  {
   "cell_type": "code",
   "execution_count": null,
   "metadata": {
    "colab": {
     "base_uri": "https://localhost:8080/"
    },
    "executionInfo": {
     "elapsed": 9,
     "status": "ok",
     "timestamp": 1683053835303,
     "user": {
      "displayName": "Neha Anegondi",
      "userId": "13446886544877956139"
     },
     "user_tz": 420
    },
    "id": "fZR_DROxLy45",
    "outputId": "19a5c67d-04be-487e-9d77-a220e2240d84"
   },
   "outputs": [],
   "source": [
    "!ls images/Module2_ADNI_New/MRI/"
   ]
  },
  {
   "cell_type": "code",
   "execution_count": null,
   "metadata": {
    "id": "nHcmqn_e4pSo"
   },
   "outputs": [],
   "source": [
    "os.makedirs(Path(DATA_PATH.parent, 'csvs'), exist_ok = True)"
   ]
  },
  {
   "cell_type": "code",
   "execution_count": null,
   "metadata": {
    "id": "nV2_PkZB4U5F"
   },
   "outputs": [],
   "source": [
    "middle_slice_df.to_csv(Path(DATA_PATH.parent, 'csvs', 'ADNI_MRI_MiddleSlices.csv'))"
   ]
  },
  {
   "cell_type": "code",
   "execution_count": null,
   "metadata": {
    "colab": {
     "base_uri": "https://localhost:8080/"
    },
    "executionInfo": {
     "elapsed": 8,
     "status": "ok",
     "timestamp": 1683053835792,
     "user": {
      "displayName": "Neha Anegondi",
      "userId": "13446886544877956139"
     },
     "user_tz": 420
    },
    "id": "wF7FDk3KXy_w",
    "outputId": "40984839-0585-4f32-a3a9-93e1c7fd24fb"
   },
   "outputs": [],
   "source": [
    "middle_slice_df.head()\n"
   ]
  },
  {
   "cell_type": "markdown",
   "metadata": {
    "id": "ZfaAKdtpXG9C"
   },
   "source": [
    "We need to add the outcome data to make this a useful dataset!"
   ]
  },
  {
   "cell_type": "code",
   "execution_count": null,
   "metadata": {
    "colab": {
     "base_uri": "https://localhost:8080/"
    },
    "executionInfo": {
     "elapsed": 6,
     "status": "ok",
     "timestamp": 1683053835792,
     "user": {
      "displayName": "Neha Anegondi",
      "userId": "13446886544877956139"
     },
     "user_tz": 420
    },
    "id": "53HwllpxXCvS",
    "outputId": "51a8c7d6-3058-4a9b-dbb6-9ebf90027560"
   },
   "outputs": [],
   "source": [
    "os.listdir(Path('images', 'Module2_ADNI_New', 'MRI', 'csvs'))"
   ]
  },
  {
   "cell_type": "code",
   "execution_count": null,
   "metadata": {
    "id": "dEAqEwLCasWY"
   },
   "outputs": [],
   "source": [
    "clin_data_df = pd.read_csv(Path('images', 'Module2_ADNI_New', 'MRI', 'csvs', 'clinical_data.csv'))"
   ]
  },
  {
   "cell_type": "code",
   "execution_count": null,
   "metadata": {
    "id": "FSfSo_Era48Z"
   },
   "outputs": [],
   "source": [
    "unique_subjects_clin_data = clin_data_df.Subject.unique()"
   ]
  },
  {
   "cell_type": "code",
   "execution_count": null,
   "metadata": {
    "colab": {
     "base_uri": "https://localhost:8080/"
    },
    "executionInfo": {
     "elapsed": 10,
     "status": "ok",
     "timestamp": 1683053836187,
     "user": {
      "displayName": "Neha Anegondi",
      "userId": "13446886544877956139"
     },
     "user_tz": 420
    },
    "id": "kqxR721kaydc",
    "outputId": "43a2eecb-c861-4d9e-e40d-830474045bd3"
   },
   "outputs": [],
   "source": [
    "len([x for x in middle_slice_df.Subject if x not in unique_subjects_clin_data])"
   ]
  },
  {
   "cell_type": "code",
   "execution_count": null,
   "metadata": {
    "id": "5_yQN2YQcUWO"
   },
   "outputs": [],
   "source": [
    "clin_data_df = clin_data_df[['Subject', 'Group']].drop_duplicates()"
   ]
  },
  {
   "cell_type": "code",
   "execution_count": null,
   "metadata": {
    "id": "pl3bfzxkbCVl"
   },
   "outputs": [],
   "source": [
    "middle_slice_df = pd.merge(middle_slice_df, clin_data_df, how= 'left', on = 'Subject' )"
   ]
  },
  {
   "cell_type": "code",
   "execution_count": null,
   "metadata": {
    "id": "u7K-5yYocif9"
   },
   "outputs": [],
   "source": [
    "middle_slice_df.to_csv(Path(DATA_PATH.parent, 'csvs', 'ADNI_MRI_MiddleSlices.csv'))"
   ]
  },
  {
   "cell_type": "markdown",
   "metadata": {
    "id": "ukSxzB0-KVr6"
   },
   "source": [
    "# Final thoughts\n",
    "\n",
    "I showed you here how to create a middle slice dataset for MRI even though the next part of the module you will be creating a classifier using PET imaging. Note that this example was intentional because you will be asked in your assignment to do tasks related to both PET and MRI imaging. I believe this exercise will help you become familiar with MRI imaging for doing well on that assignment!\n",
    "\n",
    "I hope you enjoyed learning about the MR data associated with the ADNI dataset. There will be a quiz on the AD biology and imaging!"
   ]
  },
  {
   "cell_type": "code",
   "execution_count": null,
   "metadata": {
    "id": "JacMuScvOj3L"
   },
   "outputs": [],
   "source": []
  }
 ],
 "metadata": {
  "colab": {
   "machine_shape": "hm",
   "provenance": []
  },
  "kernelspec": {
   "display_name": "Python 3 (ipykernel)",
   "language": "python",
   "name": "python3"
  },
  "language_info": {
   "codemirror_mode": {
    "name": "ipython",
    "version": 3
   },
   "file_extension": ".py",
   "mimetype": "text/x-python",
   "name": "python",
   "nbconvert_exporter": "python",
   "pygments_lexer": "ipython3",
   "version": "3.10.9"
  }
 },
 "nbformat": 4,
 "nbformat_minor": 1
}
