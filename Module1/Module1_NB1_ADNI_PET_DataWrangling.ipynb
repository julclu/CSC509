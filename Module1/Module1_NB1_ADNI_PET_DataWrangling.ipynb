{
 "cells": [
  {
   "cell_type": "markdown",
   "metadata": {
    "id": "p35itpasYuHj"
   },
   "source": [
    "# Module 1, Notebook 1: Wrangling ADNI PET Imaging and Outcome Data  \n",
    "\n",
    "[![Open In Colab](https://colab.research.google.com/assets/colab-badge.svg)](https://colab.research.google.com/github/julclu/CSC509/blob/main/Module1/Module1_NB1_ADNI_PET_DataWrangling.ipynb)\n",
    "\n"
   ]
  },
  {
   "cell_type": "markdown",
   "metadata": {},
   "source": [
    "# 0. Introduction"
   ]
  },
  {
   "cell_type": "markdown",
   "metadata": {},
   "source": [
    "* The hardest part of data science is understanding and preprocessing your dataset to use for proper inference.  \n",
    "* In this notebook, the goal is to understand the very messy dataset downloaded directly from ADNI's website. \n",
    "* It was downloaded in Zip files and unzipped using a previous notebook; you can look at that if you wish. \n",
    "* From there, we need to organize the data and understand whether there are: \n",
    "    * Any duplicates\n",
    "    * Which slice/slices and which patients we're going to use for classification \n",
    "    * What we are trying to predict \n",
    "    * If there are any additional factors to consider\n",
    "    \n",
    "The notebook is organized as follows: \n",
    "1. Mounting and accessing the data \n",
    "2. Understanding the clinical data & how it relates to the imaging data in the folder\n",
    "3. Investigating the imaging data\n",
    "4. Creating your dataset (paired imaging + clinical data) "
   ]
  },
  {
   "cell_type": "markdown",
   "metadata": {
    "id": "mGr5Of4SZOCs"
   },
   "source": [
    "# Instructions\n",
    "\n",
    "Please make a copy and rename it with your name (ex: Module1_NB1_Ilmi_Yoon). All grading will be from the questions posted on iLearn. This is for your own reference and exercise and for taking screenshots of the report you will be making for your homework. \n",
    "\n",
    "You will be submitting **a pdf** file containing **the url of your own Module1_NB1.**\n"
   ]
  },
  {
   "cell_type": "markdown",
   "metadata": {
    "id": "gMAamhL0ZzTH"
   },
   "source": [
    "# 1. Mounting and Accessing the Data"
   ]
  },
  {
   "cell_type": "markdown",
   "metadata": {},
   "source": [
    "The packages that we will be using include system packages: \n",
    "* os \n",
    "* glob \n",
    "* tqdm \n",
    "* pathlib \n",
    "* google.colab \n",
    "\n",
    "The data science packages that we will be using are: \n",
    "* numpy \n",
    "* collections\n",
    "* math\n",
    "* matplotlib.pyplot \n",
    "\n",
    "Please refer to the package API for further information on any of these packages. "
   ]
  },
  {
   "cell_type": "code",
   "execution_count": null,
   "metadata": {
    "collapsed": true,
    "executionInfo": {
     "elapsed": 4,
     "status": "ok",
     "timestamp": 1640285946640,
     "user": {
      "displayName": "Jerome Irudayanathan",
      "photoUrl": "https://lh3.googleusercontent.com/a-/AOh14GgrgqIXplOfjUXVrAnVP1f4PnzovuVw6cyUPJZjTw=s64",
      "userId": "14003899536353866481"
     },
     "user_tz": 480
    },
    "id": "qIs3_GRnxVRi"
   },
   "outputs": [],
   "source": [
    "import numpy as np\n",
    "import os\n",
    "from pathlib import Path\n",
    "import glob\n",
    "import pandas as pd\n",
    "from collections import Counter\n",
    "import math\n",
    "from tqdm import tqdm\n",
    "import matplotlib.pyplot as plt"
   ]
  },
  {
   "cell_type": "code",
   "execution_count": null,
   "metadata": {
    "executionInfo": {
     "elapsed": 167,
     "status": "ok",
     "timestamp": 1640285956008,
     "user": {
      "displayName": "Jerome Irudayanathan",
      "photoUrl": "https://lh3.googleusercontent.com/a-/AOh14GgrgqIXplOfjUXVrAnVP1f4PnzovuVw6cyUPJZjTw=s64",
      "userId": "14003899536353866481"
     },
     "user_tz": 480
    },
    "id": "kG4-4itJxaVm"
   },
   "outputs": [],
   "source": [
    "from google.colab import drive"
   ]
  },
  {
   "cell_type": "markdown",
   "metadata": {
    "id": "2XAdczELzyma"
   },
   "source": [
    "Because we are working on data stored in Google Drive, the following steps will need to be taken: \n",
    "1. Mount Google drive through using drive.mount('/content/drive')\n",
    "2. Ceate a shortcut your personal Google Drive home directory to the location where the data is through: \n",
    "  * Navigating to https://drive.google.com/\n",
    "  * Click \"My Drive\" \n",
    "  * Click the \"+ New\" button, add folder, and name it Data_Shortcut. This will be the place you can access to the data.\n",
    "  * From drive.google.com, navigate to \"Shared with me\", click on rev3, CS509_Data\n",
    "  * Right click on Module1_ADNI and click \"Add shortcut to drive\" \n",
    "  * Add to the Data_Shortcut you just created in MyDrive"
   ]
  },
  {
   "cell_type": "code",
   "execution_count": null,
   "metadata": {
    "colab": {
     "base_uri": "https://localhost:8080/"
    },
    "executionInfo": {
     "elapsed": 24087,
     "status": "ok",
     "timestamp": 1640285983198,
     "user": {
      "displayName": "Jerome Irudayanathan",
      "photoUrl": "https://lh3.googleusercontent.com/a-/AOh14GgrgqIXplOfjUXVrAnVP1f4PnzovuVw6cyUPJZjTw=s64",
      "userId": "14003899536353866481"
     },
     "user_tz": 480
    },
    "id": "EsbeTX5DxbWs",
    "outputId": "5336e54e-27e7-41cd-b223-9f969429b6f2"
   },
   "outputs": [],
   "source": [
    "drive.mount('/content/drive')"
   ]
  },
  {
   "cell_type": "code",
   "execution_count": null,
   "metadata": {
    "collapsed": true,
    "executionInfo": {
     "elapsed": 161,
     "status": "ok",
     "timestamp": 1640285985744,
     "user": {
      "displayName": "Jerome Irudayanathan",
      "photoUrl": "https://lh3.googleusercontent.com/a-/AOh14GgrgqIXplOfjUXVrAnVP1f4PnzovuVw6cyUPJZjTw=s64",
      "userId": "14003899536353866481"
     },
     "user_tz": 480
    },
    "id": "JXHRzJpHxclw"
   },
   "outputs": [],
   "source": [
    "DATA_PATH = Path('/content/drive/MyDrive/Data_Shortcut/Module1_ADNI/')"
   ]
  },
  {
   "cell_type": "markdown",
   "metadata": {},
   "source": [
    "# 2. Understanding the clinical data & how it relates to the imaging data in the folder"
   ]
  },
  {
   "cell_type": "markdown",
   "metadata": {
    "id": "4PA74wE95i82"
   },
   "source": [
    "We want to make sure we've mounted the data properly and that there are a good number of patients in the PET data folder: "
   ]
  },
  {
   "cell_type": "code",
   "execution_count": null,
   "metadata": {
    "colab": {
     "base_uri": "https://localhost:8080/"
    },
    "executionInfo": {
     "elapsed": 6624,
     "status": "ok",
     "timestamp": 1640286127957,
     "user": {
      "displayName": "Jerome Irudayanathan",
      "photoUrl": "https://lh3.googleusercontent.com/a-/AOh14GgrgqIXplOfjUXVrAnVP1f4PnzovuVw6cyUPJZjTw=s64",
      "userId": "14003899536353866481"
     },
     "user_tz": 480
    },
    "id": "EWGqXjLyx0c8",
    "outputId": "d55f22fc-757c-4252-834d-3327fa1fa14b"
   },
   "outputs": [],
   "source": [
    "num_pts = len(os.listdir(Path(DATA_PATH,'PET')))\n",
    "print(f'There are {num_pts} patients in the folder')"
   ]
  },
  {
   "cell_type": "markdown",
   "metadata": {
    "id": "Bx6w0NySe9x7"
   },
   "source": [
    "Here, we want to see if we can get the cognitive group or specific outcomes for the patients that are in the folder. In order to do that, we downloaded a CSV file associated with the PET data from the ADNI website. List the files in the CSV directory below and read them in, inspect the columns and rows of the CSV file: "
   ]
  },
  {
   "cell_type": "code",
   "execution_count": null,
   "metadata": {
    "colab": {
     "base_uri": "https://localhost:8080/"
    },
    "executionInfo": {
     "elapsed": 159,
     "status": "ok",
     "timestamp": 1640286131744,
     "user": {
      "displayName": "Jerome Irudayanathan",
      "photoUrl": "https://lh3.googleusercontent.com/a-/AOh14GgrgqIXplOfjUXVrAnVP1f4PnzovuVw6cyUPJZjTw=s64",
      "userId": "14003899536353866481"
     },
     "user_tz": 480
    },
    "id": "WeVbue7iap-4",
    "outputId": "5a1ea608-deb8-496b-d9bd-5dbb0f1ef7da"
   },
   "outputs": [],
   "source": [
    "os.listdir(Path(DATA_PATH, 'CSVS',))"
   ]
  },
  {
   "cell_type": "code",
   "execution_count": null,
   "metadata": {
    "collapsed": true,
    "executionInfo": {
     "elapsed": 636,
     "status": "ok",
     "timestamp": 1640286139864,
     "user": {
      "displayName": "Jerome Irudayanathan",
      "photoUrl": "https://lh3.googleusercontent.com/a-/AOh14GgrgqIXplOfjUXVrAnVP1f4PnzovuVw6cyUPJZjTw=s64",
      "userId": "14003899536353866481"
     },
     "user_tz": 480
    },
    "id": "AaFVfMHmeWM8"
   },
   "outputs": [],
   "source": [
    "clinical_data_df = pd.read_csv(Path(DATA_PATH,'CSVS/ADNI_ClinicalData.csv'))"
   ]
  },
  {
   "cell_type": "code",
   "execution_count": null,
   "metadata": {
    "colab": {
     "base_uri": "https://localhost:8080/"
    },
    "executionInfo": {
     "elapsed": 302,
     "status": "ok",
     "timestamp": 1640286142412,
     "user": {
      "displayName": "Jerome Irudayanathan",
      "photoUrl": "https://lh3.googleusercontent.com/a-/AOh14GgrgqIXplOfjUXVrAnVP1f4PnzovuVw6cyUPJZjTw=s64",
      "userId": "14003899536353866481"
     },
     "user_tz": 480
    },
    "id": "RuHBu_BnU4Mf",
    "outputId": "dd985bff-683e-4f17-88c7-1425f99ce2d7"
   },
   "outputs": [],
   "source": [
    "clinical_data_df.shape"
   ]
  },
  {
   "cell_type": "code",
   "execution_count": null,
   "metadata": {
    "colab": {
     "base_uri": "https://localhost:8080/",
     "height": 206
    },
    "executionInfo": {
     "elapsed": 5,
     "status": "ok",
     "timestamp": 1640286145092,
     "user": {
      "displayName": "Jerome Irudayanathan",
      "photoUrl": "https://lh3.googleusercontent.com/a-/AOh14GgrgqIXplOfjUXVrAnVP1f4PnzovuVw6cyUPJZjTw=s64",
      "userId": "14003899536353866481"
     },
     "user_tz": 480
    },
    "id": "61hSze4FemGj",
    "outputId": "10f9ddcd-5e36-4011-8a5c-bba1176107ef"
   },
   "outputs": [],
   "source": [
    "clinical_data_df.head()"
   ]
  },
  {
   "cell_type": "code",
   "execution_count": null,
   "metadata": {
    "collapsed": true
   },
   "outputs": [],
   "source": [
    "missing_clinical_data_df = pd.read_csv(Path(DATA_PATH,'CSVS/ADNI_MissingClinicalData.csv'))"
   ]
  },
  {
   "cell_type": "code",
   "execution_count": null,
   "metadata": {},
   "outputs": [],
   "source": [
    "clinical_data_df = clinical_data_df.append(missing_clinical_data_df)"
   ]
  },
  {
   "cell_type": "markdown",
   "metadata": {
    "id": "XVTAcNonfYyH"
   },
   "source": [
    "Below, I want to see if the patients in the PET folder are in in the CSV file that we downloaded: "
   ]
  },
  {
   "cell_type": "code",
   "execution_count": null,
   "metadata": {
    "colab": {
     "base_uri": "https://localhost:8080/"
    },
    "executionInfo": {
     "elapsed": 393,
     "status": "ok",
     "timestamp": 1640286151346,
     "user": {
      "displayName": "Jerome Irudayanathan",
      "photoUrl": "https://lh3.googleusercontent.com/a-/AOh14GgrgqIXplOfjUXVrAnVP1f4PnzovuVw6cyUPJZjTw=s64",
      "userId": "14003899536353866481"
     },
     "user_tz": 480
    },
    "id": "w_gMxFEPU6cy",
    "outputId": "fa02f167-6853-46a3-c41a-fd666ab96a90"
   },
   "outputs": [],
   "source": [
    "pt_in_csv = []\n",
    "pt_in_clinical_data_df = clinical_data_df.Subject.tolist()\n",
    "\n",
    "for patient_id in os.listdir(DATA_PATH/'PET'): \n",
    "    if patient_id in pt_in_clinical_data_df:\n",
    "        pt_in_csv.append(\"yes\")\n",
    "    else: \n",
    "        pt_in_csv.append('no')\n",
    "Counter(pt_in_csv)"
   ]
  },
  {
   "cell_type": "code",
   "execution_count": null,
   "metadata": {
    "colab": {
     "base_uri": "https://localhost:8080/"
    },
    "executionInfo": {
     "elapsed": 87025,
     "status": "ok",
     "timestamp": 1640286244745,
     "user": {
      "displayName": "Jerome Irudayanathan",
      "photoUrl": "https://lh3.googleusercontent.com/a-/AOh14GgrgqIXplOfjUXVrAnVP1f4PnzovuVw6cyUPJZjTw=s64",
      "userId": "14003899536353866481"
     },
     "user_tz": 480
    },
    "id": "WVkr2p1Y5iJQ",
    "outputId": "deffcd3c-fc51-41dd-c038-b48393d4c76f"
   },
   "outputs": [],
   "source": [
    "print('There are ' + str(len(glob.glob(str(Path(DATA_PATH, 'PET', '*', '*')))))+ ' files in the in the patient folders')"
   ]
  },
  {
   "cell_type": "markdown",
   "metadata": {
    "id": "XYblmOea-mmN"
   },
   "source": [
    "So there are multiple PET images files in each folder. Let's see what kinds of PET there are. "
   ]
  },
  {
   "cell_type": "markdown",
   "metadata": {
    "id": "ar-F4l8oitt3"
   },
   "source": [
    "# 3. Investigating the imaging data"
   ]
  },
  {
   "cell_type": "markdown",
   "metadata": {},
   "source": [
    "## 3.1 Understanding what imaging data is available, in what format, and how to access it "
   ]
  },
  {
   "cell_type": "code",
   "execution_count": null,
   "metadata": {
    "colab": {
     "base_uri": "https://localhost:8080/"
    },
    "executionInfo": {
     "elapsed": 1381,
     "status": "ok",
     "timestamp": 1640286331747,
     "user": {
      "displayName": "Jerome Irudayanathan",
      "photoUrl": "https://lh3.googleusercontent.com/a-/AOh14GgrgqIXplOfjUXVrAnVP1f4PnzovuVw6cyUPJZjTw=s64",
      "userId": "14003899536353866481"
     },
     "user_tz": 480
    },
    "id": "zGBX4j-CyXrl",
    "outputId": "667e79e5-bb3c-46a8-9d15-aad4352de489"
   },
   "outputs": [],
   "source": [
    "Counter([x.split('/')[-1] for x in glob.glob(str(Path(DATA_PATH, 'PET', '*', '*')))]).most_common(10)"
   ]
  },
  {
   "cell_type": "markdown",
   "metadata": {
    "id": "w3wUmknzBYwZ"
   },
   "source": [
    "Looks like there are two main types: Some that have the word \"dynamic\" and some that have the word \"averaged\". What else do you notice about the differences among the different PET image types?\n",
    "________________________________________________________________________________________________________________________________________________________________\n",
    "Below, we are going to search for patients with lots of variety of PET data "
   ]
  },
  {
   "cell_type": "code",
   "execution_count": null,
   "metadata": {
    "colab": {
     "base_uri": "https://localhost:8080/"
    },
    "executionInfo": {
     "elapsed": 1333,
     "status": "ok",
     "timestamp": 1640286349472,
     "user": {
      "displayName": "Jerome Irudayanathan",
      "photoUrl": "https://lh3.googleusercontent.com/a-/AOh14GgrgqIXplOfjUXVrAnVP1f4PnzovuVw6cyUPJZjTw=s64",
      "userId": "14003899536353866481"
     },
     "user_tz": 480
    },
    "id": "fYuIj60myeEF",
    "outputId": "fdd33195-35a9-48a1-da27-091d968a5251"
   },
   "outputs": [],
   "source": [
    "for patient in os.listdir(DATA_PATH/'PET'): \n",
    "    if len(os.listdir(DATA_PATH/'PET'/patient)) > 6: \n",
    "        print(patient, len(os.listdir(DATA_PATH/'PET'/patient)))"
   ]
  },
  {
   "cell_type": "markdown",
   "metadata": {
    "id": "hVUIMSoSC6Nn"
   },
   "source": [
    "Let's use one of these patients and compare:  "
   ]
  },
  {
   "cell_type": "code",
   "execution_count": null,
   "metadata": {
    "colab": {
     "base_uri": "https://localhost:8080/"
    },
    "executionInfo": {
     "elapsed": 174,
     "status": "ok",
     "timestamp": 1640286353587,
     "user": {
      "displayName": "Jerome Irudayanathan",
      "photoUrl": "https://lh3.googleusercontent.com/a-/AOh14GgrgqIXplOfjUXVrAnVP1f4PnzovuVw6cyUPJZjTw=s64",
      "userId": "14003899536353866481"
     },
     "user_tz": 480
    },
    "id": "0QkK94S0B5a9",
    "outputId": "fb452f27-8671-41d7-b1ec-ec26c6301d7b"
   },
   "outputs": [],
   "source": [
    "patient_name = '127_S_5200'\n",
    "os.listdir(DATA_PATH/'PET'/patient_name)"
   ]
  },
  {
   "cell_type": "markdown",
   "metadata": {},
   "source": [
    "I'm going to just pick one of these image types in the patient folder and look at the file structure to evaluate how deep in the directory the image is actually located: "
   ]
  },
  {
   "cell_type": "code",
   "execution_count": null,
   "metadata": {
    "collapsed": true,
    "executionInfo": {
     "elapsed": 158,
     "status": "ok",
     "timestamp": 1640286360662,
     "user": {
      "displayName": "Jerome Irudayanathan",
      "photoUrl": "https://lh3.googleusercontent.com/a-/AOh14GgrgqIXplOfjUXVrAnVP1f4PnzovuVw6cyUPJZjTw=s64",
      "userId": "14003899536353866481"
     },
     "user_tz": 480
    },
    "id": "GEaR5FU9Bh1q"
   },
   "outputs": [],
   "source": [
    "image_type_to_test = 'AV45_Coreg,_Avg,_Std_Img_and_Vox_Siz,_Uniform_Resolution'"
   ]
  },
  {
   "cell_type": "markdown",
   "metadata": {},
   "source": [
    "* Below, we are using `glob` to get files in a particular directory; specifically this patient and this image type \n",
    "* We can't use `os.listdir` as it doesn't support the use of asterisks/wild cards \n",
    "* `glob` doesn't support using Paths, so we have to convert it to a string \n",
    "* `Path` (with a capital P like this) is a python object imported from pathlib that allows for automatic path creation.\n",
    "* Check out the Path object below"
   ]
  },
  {
   "cell_type": "code",
   "execution_count": null,
   "metadata": {
    "colab": {
     "base_uri": "https://localhost:8080/",
     "height": 53
    },
    "executionInfo": {
     "elapsed": 1298,
     "status": "ok",
     "timestamp": 1640286378393,
     "user": {
      "displayName": "Jerome Irudayanathan",
      "photoUrl": "https://lh3.googleusercontent.com/a-/AOh14GgrgqIXplOfjUXVrAnVP1f4PnzovuVw6cyUPJZjTw=s64",
      "userId": "14003899536353866481"
     },
     "user_tz": 480
    },
    "id": "2kiaw6DU5GWV",
    "outputId": "15e75413-9c0b-4b04-920c-028e105b40bf"
   },
   "outputs": [],
   "source": [
    "Path(DATA_PATH,'PET',patient_name,image_type_to_test, '*', '*', '*')\n",
    "\n"
   ]
  },
  {
   "cell_type": "markdown",
   "metadata": {},
   "source": [
    "You'll notice that it's not a regular string. So that's why we have to convert it to string before using glob. "
   ]
  },
  {
   "cell_type": "code",
   "execution_count": null,
   "metadata": {
    "collapsed": true
   },
   "outputs": [],
   "source": [
    "## Here is where we finally execute that command: \n",
    "glob.glob(str(Path(DATA_PATH,'PET',patient_name,image_type_to_test, '*', '*', '*')))[0]"
   ]
  },
  {
   "cell_type": "markdown",
   "metadata": {
    "id": "2q0zP3PDy-Ss"
   },
   "source": [
    "Looks like the structure is as follows: \n",
    "\n",
    "\n",
    "`<root_path>/Module1_ADNI/PET/<patient_id>/<image_type>/<date>/<Series>/<full_image_name>.dcm`\n",
    "\n",
    "\n",
    "Let's see how many dates, series, and DICOM images there are in this particular image_type: \n",
    "\n"
   ]
  },
  {
   "cell_type": "code",
   "execution_count": null,
   "metadata": {
    "colab": {
     "base_uri": "https://localhost:8080/"
    },
    "executionInfo": {
     "elapsed": 143,
     "status": "ok",
     "timestamp": 1640286408952,
     "user": {
      "displayName": "Jerome Irudayanathan",
      "photoUrl": "https://lh3.googleusercontent.com/a-/AOh14GgrgqIXplOfjUXVrAnVP1f4PnzovuVw6cyUPJZjTw=s64",
      "userId": "14003899536353866481"
     },
     "user_tz": 480
    },
    "id": "A_t9CUthxifB",
    "outputId": "29ba5a7f-fa3e-45ea-d183-afdd398daaf7"
   },
   "outputs": [],
   "source": [
    "print('The number of dates in this image type is: '+ str(len(glob.glob(str(Path(DATA_PATH,'PET',patient_name,image_type_to_test, '*', ))))), \n",
    "      ' and they are: ', [x.split('/')[-1] for x in glob.glob(str(Path(DATA_PATH,'PET',patient_name,image_type_to_test, '*', )))])"
   ]
  },
  {
   "cell_type": "code",
   "execution_count": null,
   "metadata": {
    "collapsed": true,
    "executionInfo": {
     "elapsed": 145,
     "status": "ok",
     "timestamp": 1640286418909,
     "user": {
      "displayName": "Jerome Irudayanathan",
      "photoUrl": "https://lh3.googleusercontent.com/a-/AOh14GgrgqIXplOfjUXVrAnVP1f4PnzovuVw6cyUPJZjTw=s64",
      "userId": "14003899536353866481"
     },
     "user_tz": 480
    },
    "id": "rDtEWZakutn0"
   },
   "outputs": [],
   "source": [
    "date_test = [x.split('/')[-1] for x in glob.glob(str(Path(DATA_PATH,'PET',patient_name,image_type_to_test, '*', )))][0]\n",
    "image_series_test = [x.split('/')[-1] for x in glob.glob(str(Path(DATA_PATH,'PET',patient_name,image_type_to_test, date_test,'*' )))][0]\n"
   ]
  },
  {
   "cell_type": "code",
   "execution_count": null,
   "metadata": {
    "colab": {
     "base_uri": "https://localhost:8080/"
    },
    "executionInfo": {
     "elapsed": 3,
     "status": "ok",
     "timestamp": 1640286421153,
     "user": {
      "displayName": "Jerome Irudayanathan",
      "photoUrl": "https://lh3.googleusercontent.com/a-/AOh14GgrgqIXplOfjUXVrAnVP1f4PnzovuVw6cyUPJZjTw=s64",
      "userId": "14003899536353866481"
     },
     "user_tz": 480
    },
    "id": "GxgaSsnQ-UOp",
    "outputId": "9423f828-4f30-4b5d-d292-09da6df01f82"
   },
   "outputs": [],
   "source": [
    "## In a single series, it looks like the DICOMs are numbered by their slice based on third to last element in the slice name.\n",
    "os.listdir(Path(DATA_PATH,'PET',patient_name,image_type_to_test, date_test,image_series_test ))[:10]\n",
    "## I'm only displaying 10 of them, but feel free to play with the number of the list above ^ to see more or fewer. "
   ]
  },
  {
   "cell_type": "code",
   "execution_count": null,
   "metadata": {
    "colab": {
     "base_uri": "https://localhost:8080/"
    },
    "executionInfo": {
     "elapsed": 174,
     "status": "ok",
     "timestamp": 1640286433684,
     "user": {
      "displayName": "Jerome Irudayanathan",
      "photoUrl": "https://lh3.googleusercontent.com/a-/AOh14GgrgqIXplOfjUXVrAnVP1f4PnzovuVw6cyUPJZjTw=s64",
      "userId": "14003899536353866481"
     },
     "user_tz": 480
    },
    "id": "dr6J2hgW41Vb",
    "outputId": "c9e8065f-5a68-425f-a70b-02be6ed96508"
   },
   "outputs": [],
   "source": [
    "len(os.listdir(Path(DATA_PATH,'PET',patient_name,image_type_to_test, date_test,image_series_test )))"
   ]
  },
  {
   "cell_type": "markdown",
   "metadata": {
    "id": "P0VKpsrMqa5z"
   },
   "source": [
    "These files all have the extension \".dcm\", which means that it's a DICOM file. These types of files have both pixel data and meta-data associated with the pixel data (image). Therefore, they require a special reader in python. A quick google search will tell you to use pydicom, but Colab doesn't have that pre-installed. We'll install it below: "
   ]
  },
  {
   "cell_type": "markdown",
   "metadata": {},
   "source": [
    "## 3.2 Reading in the imaging data"
   ]
  },
  {
   "cell_type": "code",
   "execution_count": null,
   "metadata": {
    "colab": {
     "base_uri": "https://localhost:8080/"
    },
    "executionInfo": {
     "elapsed": 5859,
     "status": "ok",
     "timestamp": 1640286444250,
     "user": {
      "displayName": "Jerome Irudayanathan",
      "photoUrl": "https://lh3.googleusercontent.com/a-/AOh14GgrgqIXplOfjUXVrAnVP1f4PnzovuVw6cyUPJZjTw=s64",
      "userId": "14003899536353866481"
     },
     "user_tz": 480
    },
    "id": "FNgqkPNY5ffg",
    "outputId": "6a50455c-1a10-4cd1-9773-2dd42ab130a5"
   },
   "outputs": [],
   "source": [
    "!pip install pydicom"
   ]
  },
  {
   "cell_type": "code",
   "execution_count": null,
   "metadata": {
    "collapsed": true,
    "executionInfo": {
     "elapsed": 150,
     "status": "ok",
     "timestamp": 1640286461396,
     "user": {
      "displayName": "Jerome Irudayanathan",
      "photoUrl": "https://lh3.googleusercontent.com/a-/AOh14GgrgqIXplOfjUXVrAnVP1f4PnzovuVw6cyUPJZjTw=s64",
      "userId": "14003899536353866481"
     },
     "user_tz": 480
    },
    "id": "jeAw-ne3_8Cl"
   },
   "outputs": [],
   "source": [
    "import pydicom"
   ]
  },
  {
   "cell_type": "code",
   "execution_count": null,
   "metadata": {
    "collapsed": true,
    "executionInfo": {
     "elapsed": 155,
     "status": "ok",
     "timestamp": 1640286462636,
     "user": {
      "displayName": "Jerome Irudayanathan",
      "photoUrl": "https://lh3.googleusercontent.com/a-/AOh14GgrgqIXplOfjUXVrAnVP1f4PnzovuVw6cyUPJZjTw=s64",
      "userId": "14003899536353866481"
     },
     "user_tz": 480
    },
    "id": "_iWTCQBWsfbn"
   },
   "outputs": [],
   "source": [
    "## Using the _45_ tag as a potential indicator that it's the slice at the center of the volume\n",
    "first_dicom_dataset = pydicom.dcmread(glob.glob(str(Path(DATA_PATH,'PET',patient_name,image_type_to_test, date_test, image_series_test, '*_45_*')))[0])"
   ]
  },
  {
   "cell_type": "markdown",
   "metadata": {},
   "source": [
    "### 3.2.1 Exploring the metadata"
   ]
  },
  {
   "cell_type": "markdown",
   "metadata": {
    "colab": {
     "base_uri": "https://localhost:8080/"
    },
    "executionInfo": {
     "elapsed": 151,
     "status": "ok",
     "timestamp": 1640286464859,
     "user": {
      "displayName": "Jerome Irudayanathan",
      "photoUrl": "https://lh3.googleusercontent.com/a-/AOh14GgrgqIXplOfjUXVrAnVP1f4PnzovuVw6cyUPJZjTw=s64",
      "userId": "14003899536353866481"
     },
     "user_tz": 480
    },
    "id": "ui0p-HRhs1hz",
    "outputId": "77f780fd-737a-4567-f327-642a80c8e67c"
   },
   "source": [
    "Use this space to print the first dicom dataset if you wish and check out the metadata. You can also go to the documentation of pydicom to figure out what each of the tags mean. "
   ]
  },
  {
   "cell_type": "code",
   "execution_count": null,
   "metadata": {
    "collapsed": true
   },
   "outputs": [],
   "source": [
    "## Space for you to look at the metadata yourself. If you can't figure it out, just ask for help! "
   ]
  },
  {
   "cell_type": "markdown",
   "metadata": {
    "id": "y8ulSYgStNKp"
   },
   "source": [
    "When you view the variable, you'll notice different numerical \"tags\". Each tag keeps a unique data field. Some important DICOM data fields for PET images include: \n",
    "\n",
    "*   Series Description\n",
    "*   Radiopharmaceutical\n",
    "*   Pixel Data \n",
    "\n",
    "You can usually find nearly any information you're looking for with respect to the image acqusition in these DICOM fields. Since some of these are manually input into the scanner, it is possible that the data field is subject to error. Let's access some of the tags and then look at the image: \n"
   ]
  },
  {
   "cell_type": "code",
   "execution_count": null,
   "metadata": {
    "colab": {
     "base_uri": "https://localhost:8080/"
    },
    "executionInfo": {
     "elapsed": 233,
     "status": "ok",
     "timestamp": 1639579964857,
     "user": {
      "displayName": "Julia Cluceru",
      "photoUrl": "https://lh3.googleusercontent.com/a-/AOh14GglF15kgZEkWaFkBMHQE8dUtd2Lw8zbPz3S0JYd=s64",
      "userId": "13160445324342453863"
     },
     "user_tz": -60
    },
    "id": "Zt8HU6ADszlA",
    "outputId": "3d448550-5268-4e9a-eb9d-e62fb2bb5f75"
   },
   "outputs": [],
   "source": [
    "## If we want to know the institution that this DICOM image was acquired at, \n",
    "## you can access a tag by its numerical value like this: \n",
    "first_dicom_dataset[0x8, 0x80]\n",
    "## Note that we have to use 0x<number> format; otherwise Python won't know \n",
    "## the 0s preceding the code exist."
   ]
  },
  {
   "cell_type": "code",
   "execution_count": null,
   "metadata": {
    "colab": {
     "base_uri": "https://localhost:8080/"
    },
    "executionInfo": {
     "elapsed": 217,
     "status": "ok",
     "timestamp": 1639579966197,
     "user": {
      "displayName": "Julia Cluceru",
      "photoUrl": "https://lh3.googleusercontent.com/a-/AOh14GglF15kgZEkWaFkBMHQE8dUtd2Lw8zbPz3S0JYd=s64",
      "userId": "13160445324342453863"
     },
     "user_tz": -60
    },
    "id": "GVgdjm5ivuTG",
    "outputId": "9ff9fdb0-6024-4130-f4c4-6af2461b43c7"
   },
   "outputs": [],
   "source": [
    "\n",
    "## You can also use the name of the element: \n",
    "first_dicom_dataset['InstitutionName']"
   ]
  },
  {
   "cell_type": "code",
   "execution_count": null,
   "metadata": {
    "colab": {
     "base_uri": "https://localhost:8080/",
     "height": 35
    },
    "executionInfo": {
     "elapsed": 4,
     "status": "ok",
     "timestamp": 1639579966441,
     "user": {
      "displayName": "Julia Cluceru",
      "photoUrl": "https://lh3.googleusercontent.com/a-/AOh14GglF15kgZEkWaFkBMHQE8dUtd2Lw8zbPz3S0JYd=s64",
      "userId": "13160445324342453863"
     },
     "user_tz": -60
    },
    "id": "NgxowSICv2q5",
    "outputId": "d78d1b7e-0210-4604-90b6-2ed1c11f2640"
   },
   "outputs": [],
   "source": [
    "## Or if you want the value only: \n",
    "first_dicom_dataset.InstitutionName"
   ]
  },
  {
   "cell_type": "markdown",
   "metadata": {},
   "source": [
    "### 3.2.2 Visualizing the imaging data "
   ]
  },
  {
   "cell_type": "markdown",
   "metadata": {
    "id": "VBHJomJXwFqi"
   },
   "source": [
    "Now let's look at the image itself. Please go [here](https://pydicom.github.io/pydicom/stable/old/working_with_pixel_data.html) to find the correct way to get the pixel data! "
   ]
  },
  {
   "cell_type": "code",
   "execution_count": null,
   "metadata": {
    "colab": {
     "base_uri": "https://localhost:8080/"
    },
    "collapsed": true,
    "executionInfo": {
     "elapsed": 2,
     "status": "ok",
     "timestamp": 1639579967758,
     "user": {
      "displayName": "Julia Cluceru",
      "photoUrl": "https://lh3.googleusercontent.com/a-/AOh14GglF15kgZEkWaFkBMHQE8dUtd2Lw8zbPz3S0JYd=s64",
      "userId": "13160445324342453863"
     },
     "user_tz": -60
    },
    "id": "T2kUvnjksrC0",
    "outputId": "a491fd39-39e0-4d79-f055-44e51ead7105"
   },
   "outputs": [],
   "source": [
    "## In this box, print the shape of the pixel data: \n",
    "\n",
    "## It should be (160, 160)"
   ]
  },
  {
   "cell_type": "code",
   "execution_count": null,
   "metadata": {
    "collapsed": true
   },
   "outputs": [],
   "source": [
    "## In this box, grab the pixels / imaging data from the first_dicom_dataset and name it \"first_image\" "
   ]
  },
  {
   "cell_type": "code",
   "execution_count": null,
   "metadata": {
    "colab": {
     "base_uri": "https://localhost:8080/",
     "height": 265
    },
    "executionInfo": {
     "elapsed": 301,
     "status": "ok",
     "timestamp": 1639580067758,
     "user": {
      "displayName": "Julia Cluceru",
      "photoUrl": "https://lh3.googleusercontent.com/a-/AOh14GglF15kgZEkWaFkBMHQE8dUtd2Lw8zbPz3S0JYd=s64",
      "userId": "13160445324342453863"
     },
     "user_tz": -60
    },
    "id": "KUyqry1StMVh",
    "outputId": "cf1ec114-3bd3-4d8b-9999-bfebbdd536a5"
   },
   "outputs": [],
   "source": [
    "plt.imshow(first_image, cmap = 'gray')\n",
    "plt.axis('off')"
   ]
  },
  {
   "cell_type": "code",
   "execution_count": null,
   "metadata": {
    "colab": {
     "base_uri": "https://localhost:8080/",
     "height": 265
    },
    "executionInfo": {
     "elapsed": 395,
     "status": "ok",
     "timestamp": 1639580073652,
     "user": {
      "displayName": "Julia Cluceru",
      "photoUrl": "https://lh3.googleusercontent.com/a-/AOh14GglF15kgZEkWaFkBMHQE8dUtd2Lw8zbPz3S0JYd=s64",
      "userId": "13160445324342453863"
     },
     "user_tz": -60
    },
    "id": "Oe8PO7S1lOtc",
    "outputId": "02a5cabb-425a-473a-ff32-ed7694c991fc"
   },
   "outputs": [],
   "source": [
    "plt.imshow(first_image, cmap = 'nipy_spectral')\n",
    "plt.axis('off')"
   ]
  },
  {
   "cell_type": "markdown",
   "metadata": {
    "id": "KGtPZLEeBjsg"
   },
   "source": [
    "Let's confirm that the `_45_` number in the file name corresponds to the slice number. To do that, let's load the dicom slice datasets into a dictionary with the key as this identifier, then sort the keys & plot the slices: "
   ]
  },
  {
   "cell_type": "code",
   "execution_count": null,
   "metadata": {
    "collapsed": true,
    "executionInfo": {
     "elapsed": 170,
     "status": "ok",
     "timestamp": 1640286477843,
     "user": {
      "displayName": "Jerome Irudayanathan",
      "photoUrl": "https://lh3.googleusercontent.com/a-/AOh14GgrgqIXplOfjUXVrAnVP1f4PnzovuVw6cyUPJZjTw=s64",
      "userId": "14003899536353866481"
     },
     "user_tz": 480
    },
    "id": "mXK2hM4HvAoV"
   },
   "outputs": [],
   "source": [
    "def read_all_dicom_slices(dicom_directory, \n",
    "                         ):\n",
    "  \"\"\"\n",
    "  Will read in the images from a single dicom folder and return a dictionary of \n",
    "  those images with the key as the presumed slice number, and the value being the pixel array. \n",
    "  \n",
    "  dicom_directory: Path or string that leads to the folder containing the slices \n",
    "\n",
    "  \"\"\"\n",
    "  dicom_image_dict = {}\n",
    "    for image in glob.glob(str(Path(dicom_directory, '*'))): \n",
    "        key = image.split('/')[-1].split('_')[-3]\n",
    "        dicom_image_dict[key]= pydicom.dcmread(image)\n",
    "    return dicom_image_dict"
   ]
  },
  {
   "cell_type": "code",
   "execution_count": null,
   "metadata": {
    "collapsed": true,
    "executionInfo": {
     "elapsed": 23920,
     "status": "ok",
     "timestamp": 1640286503478,
     "user": {
      "displayName": "Jerome Irudayanathan",
      "photoUrl": "https://lh3.googleusercontent.com/a-/AOh14GgrgqIXplOfjUXVrAnVP1f4PnzovuVw6cyUPJZjTw=s64",
      "userId": "14003899536353866481"
     },
     "user_tz": 480
    },
    "id": "Se6V7CzEvHqV"
   },
   "outputs": [],
   "source": [
    "first_dicom_dir =  Path(DATA_PATH,'PET',patient_name,image_type_to_test, date_test, image_series_test)\n",
    "first_dicom_volume = read_all_dicom_slices(first_dicom_dir)\n"
   ]
  },
  {
   "cell_type": "code",
   "execution_count": null,
   "metadata": {
    "collapsed": true,
    "executionInfo": {
     "elapsed": 155,
     "status": "ok",
     "timestamp": 1640286518365,
     "user": {
      "displayName": "Jerome Irudayanathan",
      "photoUrl": "https://lh3.googleusercontent.com/a-/AOh14GgrgqIXplOfjUXVrAnVP1f4PnzovuVw6cyUPJZjTw=s64",
      "userId": "14003899536353866481"
     },
     "user_tz": 480
    },
    "id": "P24Ip_0sZZfG"
   },
   "outputs": [],
   "source": [
    "def visualize_dicom_volume(dicom_volume: dict): \n",
    "    \"\"\"\n",
    "    Takes a dicom volume, gives them the proper titles. \n",
    "    dicom_volume,  e.g. {'1': <pixel_data>, ...}\n",
    "    output is to plot an appropriate size image of the voulme that one is interested in. \n",
    "    \"\"\"\n",
    "    num_rows = math.ceil(len(dicom_volume.keys())/5)\n",
    "    keys_sorted = [str(x) for x in sorted([int(x) for x in list(dicom_volume.keys())])]\n",
    "    plt.figure(figsize = (20, 15*num_rows))\n",
    "    for i, key in enumerate(keys_sorted): # iterates through the dictionary, while the enumerate function keeps track of the index with i\n",
    "        plt.subplot(5*num_rows,5,i+1)    # the number of images in the grid \n",
    "        value = dicom_volume[key]\n",
    "        img = value.pixel_array\n",
    "        plt.imshow(img, cmap= 'gray')\n",
    "        plt.axis('off')\n",
    "        plt.title(key)\n",
    "    plt.show()"
   ]
  },
  {
   "cell_type": "code",
   "execution_count": null,
   "metadata": {
    "colab": {
     "base_uri": "https://localhost:8080/",
     "height": 1000
    },
    "executionInfo": {
     "elapsed": 6785,
     "status": "ok",
     "timestamp": 1640286528501,
     "user": {
      "displayName": "Jerome Irudayanathan",
      "photoUrl": "https://lh3.googleusercontent.com/a-/AOh14GgrgqIXplOfjUXVrAnVP1f4PnzovuVw6cyUPJZjTw=s64",
      "userId": "14003899536353866481"
     },
     "user_tz": 480
    },
    "id": "gLMf34qcZtv3",
    "outputId": "058babe5-3407-4a28-a853-adb0241db52d"
   },
   "outputs": [],
   "source": [
    "visualize_dicom_volume(first_dicom_volume)"
   ]
  },
  {
   "cell_type": "markdown",
   "metadata": {
    "id": "Dqqwyh3-kNVX"
   },
   "source": [
    "They do look ordered and as though the slice number corresponds pretty well with the way that it's named. "
   ]
  },
  {
   "cell_type": "markdown",
   "metadata": {},
   "source": [
    "# 4. Creating your PET dataset"
   ]
  },
  {
   "cell_type": "markdown",
   "metadata": {
    "id": "JzYGDgaQxgwo"
   },
   "source": [
    "One good practice is to create a master index CSV file with the path to all the images you want to use (e.g. the middle slices) and other information you want so it is all in one place. Below, we will start to create a dataframe that we plan to write to a CSV once we have all the information cleaned up: "
   ]
  },
  {
   "cell_type": "markdown",
   "metadata": {},
   "source": [
    "To create a list of the center slices of all the uniform images we will do the following: \n",
    "1. Create a list of all the uniform images we think we have \n",
    "2. Find the middle slice of these uniform images \n",
    "3. Explore how many slices each of these volumes has to see if there are any major differences between the PET acquistions (even those that have been processed to form uniform voxels) \n",
    "4. Explore the naming of these slices to see if there are any major differences based on the patterns we noticed before \n",
    "\n",
    "5. Create a CSV file that has all the relevant information about the PET data that we need so that we can use it to guide reading in images for modeling"
   ]
  },
  {
   "cell_type": "markdown",
   "metadata": {},
   "source": [
    "## 4.1 Create a list of all the uniform images we think we have: "
   ]
  },
  {
   "cell_type": "code",
   "execution_count": null,
   "metadata": {
    "executionInfo": {
     "elapsed": 132110,
     "status": "ok",
     "timestamp": 1640286670853,
     "user": {
      "displayName": "Jerome Irudayanathan",
      "photoUrl": "https://lh3.googleusercontent.com/a-/AOh14GgrgqIXplOfjUXVrAnVP1f4PnzovuVw6cyUPJZjTw=s64",
      "userId": "14003899536353866481"
     },
     "user_tz": 480
    },
    "id": "_hmmUrNWlLJx"
   },
   "outputs": [],
   "source": [
    "uniform_path_list = glob.glob(str(Path(DATA_PATH,'PET', '*', '*niform*', '*', '*')))"
   ]
  },
  {
   "cell_type": "code",
   "execution_count": null,
   "metadata": {
    "collapsed": true,
    "executionInfo": {
     "elapsed": 4,
     "status": "ok",
     "timestamp": 1640286670854,
     "user": {
      "displayName": "Jerome Irudayanathan",
      "photoUrl": "https://lh3.googleusercontent.com/a-/AOh14GgrgqIXplOfjUXVrAnVP1f4PnzovuVw6cyUPJZjTw=s64",
      "userId": "14003899536353866481"
     },
     "user_tz": 480
    },
    "id": "awAPTp0e9_lG"
   },
   "outputs": [],
   "source": [
    "uniform_path_list.sort()"
   ]
  },
  {
   "cell_type": "code",
   "execution_count": null,
   "metadata": {
    "colab": {
     "base_uri": "https://localhost:8080/"
    },
    "executionInfo": {
     "elapsed": 174,
     "status": "ok",
     "timestamp": 1640286766198,
     "user": {
      "displayName": "Jerome Irudayanathan",
      "photoUrl": "https://lh3.googleusercontent.com/a-/AOh14GgrgqIXplOfjUXVrAnVP1f4PnzovuVw6cyUPJZjTw=s64",
      "userId": "14003899536353866481"
     },
     "user_tz": 480
    },
    "id": "CTaqqZABPgE0",
    "outputId": "822eb1d8-2873-48f1-9dbc-d521a9e11c4c"
   },
   "outputs": [],
   "source": [
    "len(uniform_path_list)"
   ]
  },
  {
   "cell_type": "markdown",
   "metadata": {},
   "source": [
    "## 4.2 Here, we want to go through the path list of uniform voxels and find the middle \"center\" slice of the volume and record the path to it:"
   ]
  },
  {
   "cell_type": "code",
   "execution_count": null,
   "metadata": {
    "colab": {
     "base_uri": "https://localhost:8080/"
    },
    "executionInfo": {
     "elapsed": 10415,
     "status": "ok",
     "timestamp": 1640286809804,
     "user": {
      "displayName": "Jerome Irudayanathan",
      "photoUrl": "https://lh3.googleusercontent.com/a-/AOh14GgrgqIXplOfjUXVrAnVP1f4PnzovuVw6cyUPJZjTw=s64",
      "userId": "14003899536353866481"
     },
     "user_tz": 480
    },
    "id": "rYZ4YEY3Zx0v",
    "outputId": "4c070f73-00b4-42b2-ae2a-6efb3558ef1d"
   },
   "outputs": [],
   "source": [
    "middle_slices = []\n",
    "for path_to_uniform in tqdm(uniform_path_list): # Using the tqdm package to show a status bar based on how quickly the process is running\n",
    "    num_slices = len(os.listdir(path_to_uniform))\n",
    "    middle_slice = str(num_slices//2)\n",
    "    if len(glob.glob(path_to_uniform+'/*_'+middle_slice+\"_*\")) > 0: \n",
    "        middle_slices.append(glob.glob(path_to_uniform+'/*_'+middle_slice+\"_*\"))\n",
    "    else: pass\n",
    "    # print(path_to_uniform)"
   ]
  },
  {
   "cell_type": "code",
   "execution_count": null,
   "metadata": {
    "colab": {
     "base_uri": "https://localhost:8080/"
    },
    "executionInfo": {
     "elapsed": 135,
     "status": "ok",
     "timestamp": 1640286832089,
     "user": {
      "displayName": "Jerome Irudayanathan",
      "photoUrl": "https://lh3.googleusercontent.com/a-/AOh14GgrgqIXplOfjUXVrAnVP1f4PnzovuVw6cyUPJZjTw=s64",
      "userId": "14003899536353866481"
     },
     "user_tz": 480
    },
    "id": "MmbcKgCg90J4",
    "outputId": "c0e1206b-d50c-43fd-a833-4209e3aed794"
   },
   "outputs": [],
   "source": [
    "len(middle_slices)"
   ]
  },
  {
   "cell_type": "markdown",
   "metadata": {},
   "source": [
    "Start your dataframe by creating a \"middle_slice_df\" which has the first column as the path to the middle slices (the core of our dataset) "
   ]
  },
  {
   "cell_type": "code",
   "execution_count": null,
   "metadata": {
    "collapsed": true,
    "executionInfo": {
     "elapsed": 180,
     "status": "ok",
     "timestamp": 1640286841911,
     "user": {
      "displayName": "Jerome Irudayanathan",
      "photoUrl": "https://lh3.googleusercontent.com/a-/AOh14GgrgqIXplOfjUXVrAnVP1f4PnzovuVw6cyUPJZjTw=s64",
      "userId": "14003899536353866481"
     },
     "user_tz": 480
    },
    "id": "lTR9h--f92bH"
   },
   "outputs": [],
   "source": [
    "middle_slice_df = pd.DataFrame({'path_middle_slices': [x[0] for x in middle_slices]})"
   ]
  },
  {
   "cell_type": "markdown",
   "metadata": {},
   "source": [
    "### 3.3 Explore how many slices each of these volumes has to see if there are any major differences between the PET acquistions (even those that have been processed to form uniform voxels)"
   ]
  },
  {
   "cell_type": "code",
   "execution_count": null,
   "metadata": {
    "colab": {
     "base_uri": "https://localhost:8080/"
    },
    "executionInfo": {
     "elapsed": 135,
     "status": "ok",
     "timestamp": 1640286854254,
     "user": {
      "displayName": "Jerome Irudayanathan",
      "photoUrl": "https://lh3.googleusercontent.com/a-/AOh14GgrgqIXplOfjUXVrAnVP1f4PnzovuVw6cyUPJZjTw=s64",
      "userId": "14003899536353866481"
     },
     "user_tz": 480
    },
    "id": "WFw1z8bdurbz",
    "outputId": "945c5daa-d8ef-43da-c0d9-83daa17066e6"
   },
   "outputs": [],
   "source": [
    "middle_slice_df['slice_num'] = [x.split('_')[-3] for x in middle_slice_df.path_middle_slices]\n",
    "middle_slice_df.slice_num.value_counts().head()"
   ]
  },
  {
   "cell_type": "markdown",
   "metadata": {},
   "source": [
    "## 4.3 Explore the naming; are there averaged and dynamic images in here? "
   ]
  },
  {
   "cell_type": "markdown",
   "metadata": {},
   "source": [
    "Building the dataframe with relevant information: "
   ]
  },
  {
   "cell_type": "code",
   "execution_count": null,
   "metadata": {
    "colab": {
     "base_uri": "https://localhost:8080/"
    },
    "executionInfo": {
     "elapsed": 163,
     "status": "ok",
     "timestamp": 1640286850609,
     "user": {
      "displayName": "Jerome Irudayanathan",
      "photoUrl": "https://lh3.googleusercontent.com/a-/AOh14GgrgqIXplOfjUXVrAnVP1f4PnzovuVw6cyUPJZjTw=s64",
      "userId": "14003899536353866481"
     },
     "user_tz": 480
    },
    "id": "-UHF1JRYunDy",
    "outputId": "957807bc-e34f-45c3-8c54-5cccb39f8abe"
   },
   "outputs": [],
   "source": [
    "middle_slice_df['avg_or_dyn'] = ['Avg' if 'avg' in x.lower() else 'Dyn' for x in middle_slice_df.path_middle_slices]\n",
    "middle_slice_df.avg_or_dyn.value_counts()"
   ]
  },
  {
   "cell_type": "markdown",
   "metadata": {},
   "source": [
    "In the exercise above, this list shows that there are 403 volumes with 48 slices, and 22 volumes with 768 slices. This is probably the difference between dynamic and average PET acquisition. "
   ]
  },
  {
   "cell_type": "code",
   "execution_count": null,
   "metadata": {
    "collapsed": true,
    "executionInfo": {
     "elapsed": 624,
     "status": "ok",
     "timestamp": 1640286860014,
     "user": {
      "displayName": "Jerome Irudayanathan",
      "photoUrl": "https://lh3.googleusercontent.com/a-/AOh14GgrgqIXplOfjUXVrAnVP1f4PnzovuVw6cyUPJZjTw=s64",
      "userId": "14003899536353866481"
     },
     "user_tz": 480
    },
    "id": "_LyhzYTe3XDx"
   },
   "outputs": [],
   "source": [
    "test_dicom_avg = pydicom.dcmread(middle_slice_df.loc[0,'path_middle_slices'])\n",
    "first_dyn_index = list(middle_slice_df.loc[middle_slice_df.avg_or_dyn=='Dyn'].index)[0]\n",
    "test_dicom_dyn = pydicom.dcmread(middle_slice_df.loc[first_dyn_index, 'path_middle_slices'])"
   ]
  },
  {
   "cell_type": "markdown",
   "metadata": {},
   "source": [
    "Making sure that the average images are what we actually want by visualizing them: "
   ]
  },
  {
   "cell_type": "code",
   "execution_count": null,
   "metadata": {
    "colab": {
     "base_uri": "https://localhost:8080/",
     "height": 298
    },
    "executionInfo": {
     "elapsed": 432,
     "status": "ok",
     "timestamp": 1640286862704,
     "user": {
      "displayName": "Jerome Irudayanathan",
      "photoUrl": "https://lh3.googleusercontent.com/a-/AOh14GgrgqIXplOfjUXVrAnVP1f4PnzovuVw6cyUPJZjTw=s64",
      "userId": "14003899536353866481"
     },
     "user_tz": 480
    },
    "id": "83_pruTH3qpm",
    "outputId": "9ff961d8-dfd8-46a9-e06e-0a9a230b45bf"
   },
   "outputs": [],
   "source": [
    "plt.imshow(test_dicom_avg.pixel_array, cmap = 'gray')\n",
    "plt.axis('off')\n",
    "plt.title('Middle slice of Average image')\n"
   ]
  },
  {
   "cell_type": "code",
   "execution_count": null,
   "metadata": {
    "colab": {
     "base_uri": "https://localhost:8080/",
     "height": 298
    },
    "executionInfo": {
     "elapsed": 387,
     "status": "ok",
     "timestamp": 1640286870440,
     "user": {
      "displayName": "Jerome Irudayanathan",
      "photoUrl": "https://lh3.googleusercontent.com/a-/AOh14GgrgqIXplOfjUXVrAnVP1f4PnzovuVw6cyUPJZjTw=s64",
      "userId": "14003899536353866481"
     },
     "user_tz": 480
    },
    "id": "9E_Zp3kh3y81",
    "outputId": "5716422a-bffe-4296-b873-e0d189f3bf83"
   },
   "outputs": [],
   "source": [
    "plt.imshow(test_dicom_dyn.pixel_array, cmap = 'gray')\n",
    "plt.axis('off')\n",
    "plt.title('Middle slice of dynamic image')"
   ]
  },
  {
   "cell_type": "markdown",
   "metadata": {
    "id": "YuVfTXbX4Wsb"
   },
   "source": [
    "It looks like the dynamic images aren't really the right kind of images that we want in order to predict whether someone has AD or not. Let's get rid of those: "
   ]
  },
  {
   "cell_type": "code",
   "execution_count": null,
   "metadata": {
    "colab": {
     "base_uri": "https://localhost:8080/"
    },
    "executionInfo": {
     "elapsed": 163,
     "status": "ok",
     "timestamp": 1640286881979,
     "user": {
      "displayName": "Jerome Irudayanathan",
      "photoUrl": "https://lh3.googleusercontent.com/a-/AOh14GgrgqIXplOfjUXVrAnVP1f4PnzovuVw6cyUPJZjTw=s64",
      "userId": "14003899536353866481"
     },
     "user_tz": 480
    },
    "id": "DPOf0q914Frk",
    "outputId": "975a930e-b13b-4b71-dbb8-6051aca77204"
   },
   "outputs": [],
   "source": [
    "middle_slice_df = middle_slice_df.loc[middle_slice_df.avg_or_dyn == 'Avg'].reset_index(drop = True)\n",
    "middle_slice_df.shape"
   ]
  },
  {
   "cell_type": "code",
   "execution_count": null,
   "metadata": {
    "colab": {
     "base_uri": "https://localhost:8080/",
     "height": 206
    },
    "executionInfo": {
     "elapsed": 149,
     "status": "ok",
     "timestamp": 1640286883585,
     "user": {
      "displayName": "Jerome Irudayanathan",
      "photoUrl": "https://lh3.googleusercontent.com/a-/AOh14GgrgqIXplOfjUXVrAnVP1f4PnzovuVw6cyUPJZjTw=s64",
      "userId": "14003899536353866481"
     },
     "user_tz": 480
    },
    "id": "cbmLEHL5kdaI",
    "outputId": "77090b12-a42c-4396-dbde-47f4f19ff30d"
   },
   "outputs": [],
   "source": [
    "middle_slice_df.head()"
   ]
  },
  {
   "cell_type": "markdown",
   "metadata": {
    "id": "LD2fXm3OKD3r"
   },
   "source": [
    "Write the middle slice df to a csv file to make sure that it's saved: "
   ]
  },
  {
   "cell_type": "code",
   "execution_count": null,
   "metadata": {
    "collapsed": true,
    "executionInfo": {
     "elapsed": 151,
     "status": "ok",
     "timestamp": 1640286890090,
     "user": {
      "displayName": "Jerome Irudayanathan",
      "photoUrl": "https://lh3.googleusercontent.com/a-/AOh14GgrgqIXplOfjUXVrAnVP1f4PnzovuVw6cyUPJZjTw=s64",
      "userId": "14003899536353866481"
     },
     "user_tz": 480
    },
    "id": "nHcmqn_e4pSo"
   },
   "outputs": [],
   "source": [
    "os.makedirs(Path(DATA_PATH.parent, 'csvs'), exist_ok = True)"
   ]
  },
  {
   "cell_type": "code",
   "execution_count": null,
   "metadata": {
    "collapsed": true,
    "executionInfo": {
     "elapsed": 380,
     "status": "ok",
     "timestamp": 1640286894980,
     "user": {
      "displayName": "Jerome Irudayanathan",
      "photoUrl": "https://lh3.googleusercontent.com/a-/AOh14GgrgqIXplOfjUXVrAnVP1f4PnzovuVw6cyUPJZjTw=s64",
      "userId": "14003899536353866481"
     },
     "user_tz": 480
    },
    "id": "nV2_PkZB4U5F"
   },
   "outputs": [],
   "source": [
    "middle_slice_df.to_csv(Path(DATA_PATH.parent, 'csvs', 'ADNI_PET_MiddleSlices_UniformResolution_Averages.csv'))"
   ]
  },
  {
   "cell_type": "markdown",
   "metadata": {},
   "source": [
    "## 4.5 Create a CSV file that has all the relevant information about the PET data that we need so that we can use it to guide reading in images for modeling"
   ]
  },
  {
   "cell_type": "markdown",
   "metadata": {
    "id": "hSTQHDB7KPEb"
   },
   "source": [
    "We already created the `middle_slice_df` with some relevant information; let's add in additional clinical information. Add in some of the clinical characteristics/outcomes to be able to relate the clinical outcomes (e.g. \"Group\" (our outcome)) to the slices themselves so we know what to predict: "
   ]
  },
  {
   "cell_type": "code",
   "execution_count": null,
   "metadata": {
    "colab": {
     "background_save": true
    },
    "id": "O9ypePoBKWEa",
    "outputId": "1545252b-eace-43bc-994c-643092e99097"
   },
   "outputs": [],
   "source": [
    "clinical_data_df.head()"
   ]
  },
  {
   "cell_type": "code",
   "execution_count": null,
   "metadata": {
    "colab": {
     "background_save": true
    },
    "id": "BbIbKzWQ4zme",
    "outputId": "3fbce9ef-47ea-41ef-8e03-ffbadf1ffd62"
   },
   "outputs": [],
   "source": [
    "middle_slice_df.head()"
   ]
  },
  {
   "cell_type": "code",
   "execution_count": null,
   "metadata": {
    "colab": {
     "background_save": true
    },
    "id": "snDhOe1jKBi9",
    "outputId": "590d3773-3d19-4379-a12f-df65addc8b34"
   },
   "outputs": [],
   "source": [
    "middle_slice_df['Subject'] = [x.split('/')[7] for x in middle_slice_df.path_middle_slices]\n",
    "middle_slice_df.Subject.value_counts().head()"
   ]
  },
  {
   "cell_type": "markdown",
   "metadata": {
    "id": "RgmyXHRwcyBP"
   },
   "source": [
    "Going to check and see if there are duplicated patients in this PET data: "
   ]
  },
  {
   "cell_type": "code",
   "execution_count": null,
   "metadata": {
    "colab": {
     "background_save": true
    },
    "id": "UjXI6sHkMjEt",
    "outputId": "dcddefff-deda-4286-be1d-0e296d377e08"
   },
   "outputs": [],
   "source": [
    "middle_slice_df.Subject.duplicated().value_counts()"
   ]
  },
  {
   "cell_type": "markdown",
   "metadata": {
    "id": "0QR2cOdOc5ol"
   },
   "source": [
    "Let's select one  middle slice per patient: "
   ]
  },
  {
   "cell_type": "code",
   "execution_count": null,
   "metadata": {
    "colab": {
     "background_save": true
    },
    "collapsed": true,
    "id": "I5s0urIRNK6T"
   },
   "outputs": [],
   "source": [
    "middle_slice_df = middle_slice_df.loc[~middle_slice_df.Subject.duplicated()].reset_index(drop = True) "
   ]
  },
  {
   "cell_type": "code",
   "execution_count": null,
   "metadata": {
    "colab": {
     "background_save": true
    },
    "id": "R0Om8Djee1kZ",
    "outputId": "913f44cb-10d6-4901-8ecb-f09905df5565"
   },
   "outputs": [],
   "source": [
    "middle_slice_df.shape"
   ]
  },
  {
   "cell_type": "code",
   "execution_count": null,
   "metadata": {
    "colab": {
     "background_save": true
    },
    "id": "3EDqQbUUfByZ",
    "outputId": "3d1bc43f-1e65-47ea-e829-24c034e39bbc"
   },
   "outputs": [],
   "source": [
    "clinical_data_df.Subject.duplicated().value_counts()"
   ]
  },
  {
   "cell_type": "code",
   "execution_count": null,
   "metadata": {
    "colab": {
     "background_save": true
    },
    "collapsed": true,
    "id": "9Rlwe9uKfEtg"
   },
   "outputs": [],
   "source": [
    "clinical_data_df = clinical_data_df.loc[~clinical_data_df.Subject.duplicated()]"
   ]
  },
  {
   "cell_type": "code",
   "execution_count": null,
   "metadata": {
    "colab": {
     "background_save": true
    },
    "collapsed": true,
    "id": "2BApdxZHdMz2"
   },
   "outputs": [],
   "source": [
    "consolidated_clinical_data_df = middle_slice_df.merge(clinical_data_df, on = 'Subject', how = 'left')"
   ]
  },
  {
   "cell_type": "code",
   "execution_count": null,
   "metadata": {
    "colab": {
     "background_save": true
    },
    "id": "jBNSvb49dVV-",
    "outputId": "e86f15b0-04a2-45ce-933e-b14d759966bc"
   },
   "outputs": [],
   "source": [
    "consolidated_clinical_data_df.shape"
   ]
  },
  {
   "cell_type": "code",
   "execution_count": null,
   "metadata": {
    "colab": {
     "background_save": true
    },
    "id": "1win4DQudWH7",
    "outputId": "cd9184e2-df25-44a0-e1ec-6279f0f60f5c"
   },
   "outputs": [],
   "source": [
    "consolidated_clinical_data_df.head()"
   ]
  },
  {
   "cell_type": "markdown",
   "metadata": {
    "id": "zWwbD2j8dakt"
   },
   "source": [
    "Our outcome will be the diagnosis which is indicated by the \"Group\" column. Let's see what the counts of diagnosis are: "
   ]
  },
  {
   "cell_type": "code",
   "execution_count": null,
   "metadata": {
    "colab": {
     "background_save": true
    },
    "id": "jp30MHjYdXX6",
    "outputId": "67c310d2-5cbf-4684-cfed-6fd0335b3cc2"
   },
   "outputs": [],
   "source": [
    "consolidated_clinical_data_df.Group.value_counts()"
   ]
  },
  {
   "cell_type": "code",
   "execution_count": null,
   "metadata": {
    "colab": {
     "background_save": true
    },
    "collapsed": true,
    "id": "RlSoS4J3djSc"
   },
   "outputs": [],
   "source": [
    "consolidated_clinical_data_df.to_csv(Path('/content/drive/MyDrive/Data_Shortcut/Module1_ADNI/CSVS', 'ADNI_PET_MiddleSlices_ClinicalData.csv'))"
   ]
  },
  {
   "cell_type": "code",
   "execution_count": null,
   "metadata": {
    "colab": {
     "background_save": true
    },
    "id": "M1eUuOE5NbL3",
    "outputId": "6c45bbf2-336d-4052-b5d7-42db54ee2355"
   },
   "outputs": [],
   "source": [
    "consolidated_clinical_data_df.Group.value_counts()"
   ]
  },
  {
   "cell_type": "markdown",
   "metadata": {
    "id": "QTQ_haOxpnI6"
   },
   "source": [
    "To check, I'm going to look at the PET images from a few cognitively normal patients: "
   ]
  },
  {
   "cell_type": "code",
   "execution_count": null,
   "metadata": {
    "colab": {
     "background_save": true
    },
    "id": "gJILTMJQekqQ",
    "outputId": "df317a7c-9035-4670-9c95-06d7c76457a0"
   },
   "outputs": [],
   "source": [
    "num_patients_visualize = 10\n",
    "num_rows = math.ceil(num_patients_visualize/5)\n",
    "plt.figure(figsize = (20, 15*num_rows))\n",
    "CN_df = consolidated_clinical_data_df.loc[consolidated_clinical_data_df.Group == 'CN'].copy().reset_index(drop = True)\n",
    "for i, row in CN_df[:num_patients_visualize].iterrows(): # iterates through the dictionary, while the enumerate function keeps track of the index with i\n",
    "    plt.subplot(5*num_rows,5,i+1)    # the number of images in the grid \n",
    "    dicom_ds = pydicom.dcmread(row['path_middle_slices'])\n",
    "    img = dicom_ds.pixel_array\n",
    "    plt.imshow(img, cmap= 'gray')\n",
    "    plt.axis('off')\n",
    "    plt.title(row['Subject']+' '+row['Group'])\n",
    "plt.show()\n"
   ]
  },
  {
   "cell_type": "markdown",
   "metadata": {},
   "source": [
    "Here I'm looking at a few random AD patients: "
   ]
  },
  {
   "cell_type": "code",
   "execution_count": null,
   "metadata": {
    "colab": {
     "background_save": true
    },
    "id": "uYpVz14HqLXq",
    "outputId": "f205d707-b33a-466b-bcff-b027b76e6a43"
   },
   "outputs": [],
   "source": [
    "num_patients_visualize = 10\n",
    "num_rows = math.ceil(num_patients_visualize/5)\n",
    "plt.figure(figsize = (20, 15*num_rows))\n",
    "AD_df = consolidated_clinical_data_df.loc[consolidated_clinical_data_df.Group == 'AD'].copy().reset_index(drop = True)\n",
    "for i, row in AD_df[:num_patients_visualize].iterrows(): # iterates through the dictionary, while the enumerate function keeps track of the index with i\n",
    "    plt.subplot(5*num_rows,5,i+1)    # the number of images in the grid \n",
    "    dicom_ds = pydicom.dcmread(row['path_middle_slices'])\n",
    "    img = dicom_ds.pixel_array\n",
    "    plt.imshow(img, cmap= 'gray')\n",
    "    plt.axis('off')\n",
    "    plt.title(row['Subject']+' '+row['Group'])\n",
    "plt.show()\n"
   ]
  },
  {
   "cell_type": "markdown",
   "metadata": {
    "id": "gHbhXhmHs_RE"
   },
   "source": [
    "I see a general \"hotter\" trend in the AD patients. The next step will be to let the algorithm decide which \"hot\" features are useful for predicting AD from CN patients. "
   ]
  },
  {
   "cell_type": "code",
   "execution_count": null,
   "metadata": {
    "collapsed": true
   },
   "outputs": [],
   "source": []
  }
 ],
 "metadata": {
  "colab": {
   "collapsed_sections": [],
   "name": "Module1_NB1_ADNI_PET_DataWrangling.ipynb",
   "provenance": []
  },
  "kernelspec": {
   "display_name": "ga_seg2",
   "language": "python",
   "name": "ga_seg2"
  },
  "language_info": {
   "codemirror_mode": {
    "name": "ipython",
    "version": 3
   },
   "file_extension": ".py",
   "mimetype": "text/x-python",
   "name": "python",
   "nbconvert_exporter": "python",
   "pygments_lexer": "ipython3",
   "version": "3.7.10"
  }
 },
 "nbformat": 4,
 "nbformat_minor": 1
}
