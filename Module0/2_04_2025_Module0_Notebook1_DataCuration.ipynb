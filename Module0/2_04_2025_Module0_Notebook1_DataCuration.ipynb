{
  "cells": [
    {
      "cell_type": "markdown",
      "source": [
        "## Module 0: Data curation with an emphasis on pre-processing medical images\n",
        "Please refer to lectures 2 & 3 from Module 0. \\\\\n",
        "Questions: Julia Cluceru (cluceru.julia@gene.com)\n",
        "\n",
        "\n",
        "**Objectives (what will we learn here?)**\n",
        "\n",
        "\n",
        "1.   Running a jupyter notebook in Google Colab\n",
        "2.   Reading in high-resolution computed tomography (HRCT) NIfTI files, and saving the images as a numpy array\n",
        "3.   Viewing slices of the HRCT lung volumes\n",
        "4.   Applying a lung mask\n",
        "5.   Re-sampling the spatial resolution of HRCT volume datasets\n"
      ],
      "metadata": {
        "id": "57e95BohasrR"
      }
    },
    {
      "cell_type": "markdown",
      "source": [
        "##Step 1: Set up the environment and determine where data is located"
      ],
      "metadata": {
        "id": "kJrItCvJc5jH"
      }
    },
    {
      "cell_type": "code",
      "execution_count": null,
      "metadata": {
        "id": "uI6EXdxMtatL"
      },
      "outputs": [],
      "source": [
        "#Load packages that are needed to view & process the imaging data\n",
        "import numpy as np\n",
        "import matplotlib.pyplot as plt\n",
        "import os"
      ]
    },
    {
      "cell_type": "code",
      "source": [
        "pip install nibabel"
      ],
      "metadata": {
        "id": "vRIlc6au-e8E"
      },
      "execution_count": null,
      "outputs": []
    },
    {
      "cell_type": "code",
      "source": [
        "import nibabel as nib"
      ],
      "metadata": {
        "id": "Xzwq-DB5-j82"
      },
      "execution_count": null,
      "outputs": []
    },
    {
      "cell_type": "markdown",
      "metadata": {
        "id": "3QBPu9FXKS44"
      },
      "source": [
        "Connect to the data source:"
      ]
    },
    {
      "cell_type": "code",
      "execution_count": null,
      "metadata": {
        "id": "YycnMJBEKRWn"
      },
      "outputs": [],
      "source": [
        "!apt-get update -y && apt-get install -y fuse lsb-release; \\\n",
        "    curl -L -O https://github.com/GoogleCloudPlatform/gcsfuse/releases/download/v1.4.0/gcsfuse_1.4.0_amd64.deb; \\\n",
        "    dpkg --install gcsfuse_1.4.0_amd64.deb; \\\n",
        "    apt-get update; \\\n",
        "    apt-get clean;"
      ]
    },
    {
      "cell_type": "code",
      "execution_count": null,
      "metadata": {
        "id": "sJR6tHfCqgDR"
      },
      "outputs": [],
      "source": [
        "from google.colab import auth\n",
        "auth.authenticate_user()"
      ]
    },
    {
      "cell_type": "code",
      "execution_count": null,
      "metadata": {
        "id": "2aPVcip-tj5T"
      },
      "outputs": [],
      "source": [
        "project_id = 'sfsu-378805'\n",
        "bucket_name = 'csc-509-image-files'\n",
        "!gcloud config set project {project_id}"
      ]
    },
    {
      "cell_type": "code",
      "execution_count": null,
      "metadata": {
        "id": "aIl0UUtMtoLy"
      },
      "outputs": [],
      "source": [
        "!gsutil ls"
      ]
    },
    {
      "cell_type": "code",
      "execution_count": null,
      "metadata": {
        "id": "3jPS-dgstqj6"
      },
      "outputs": [],
      "source": [
        "!mkdir images"
      ]
    },
    {
      "cell_type": "code",
      "execution_count": null,
      "metadata": {
        "id": "dP674GT4trN6"
      },
      "outputs": [],
      "source": [
        "!gcsfuse --implicit-dirs csc-509-image-files images"
      ]
    },
    {
      "cell_type": "code",
      "execution_count": null,
      "metadata": {
        "id": "eKe_hCQytucr"
      },
      "outputs": [],
      "source": [
        "!ls images/"
      ]
    },
    {
      "cell_type": "code",
      "execution_count": null,
      "metadata": {
        "id": "DOHnbeZi7Onw"
      },
      "outputs": [],
      "source": [
        "folder = '/content/images/Module0_DataCuration/'\n"
      ]
    },
    {
      "cell_type": "markdown",
      "metadata": {
        "id": "jezbYRAXImjX"
      },
      "source": [
        "Now that we have our folder with the imaging data, let's read it in and start playing with it!\n",
        "\n",
        "There are four files in the folder named \"Module0_DataCuration:\n",
        "1.   subject001_BreathHoldX.nii.gz\n",
        "2.   subject001_BreathHoldY.nii.gz\n",
        "3.   subject001_BreathHoldX_LungMask.nii.gz\n",
        "4.   subject001_BreathHoldY_LungMask.nii.gz\n",
        "\n",
        "This is a single patient (patient ID 001) that have been acquired at two different breath holds: inspiration or expiration. There are two matching imaging datasets with just the lungs masked/segmented (more on this soon)."
      ]
    },
    {
      "cell_type": "code",
      "source": [
        "!ls images/Module0_DataCuration/ #list the files in the folder to ensure you see the four files mentioned"
      ],
      "metadata": {
        "id": "A6XT70g24O4w"
      },
      "execution_count": null,
      "outputs": []
    },
    {
      "cell_type": "markdown",
      "source": [
        "**Question 1: What is the file format of these imaging dataset?**\n",
        "\n",
        "\n",
        "YOUR ANSWER: *fill in*"
      ],
      "metadata": {
        "id": "DlWlrcOu5uoG"
      }
    },
    {
      "cell_type": "code",
      "source": [
        "#let's read in the imaging datasets and start looking at the images!\n",
        "subject001_X = nib.load(folder + 'subject001_BreathHoldX.nii.gz')\n",
        "subject001_Y = nib.load(folder + 'subject001_BreathHoldY.nii.gz')\n",
        "\n",
        "# this will separate out the imaging data from the header, and store it as a numpy array\n",
        "subject001_X_volume = subject001_X.get_fdata()\n",
        "subject001_Y_volume = subject001_Y.get_fdata()\n",
        "\n",
        "# this will produce just the file header's information\n",
        "subject001_X_header = subject001_X.header\n",
        "subject001_Y_header = subject001_Y.header\n",
        "\n",
        "image_voxeldimensions = subject001_X_header['pixdim'] #voxel dimensions in mm\n",
        "image_dimensions = subject001_X_header['dim'] #image dimensions\n",
        "\n",
        "# let's look at the shape of this matrix\n",
        "print('The first index tells you the number of dimensions your image volume has. In this example, it is a {}D matrix'.format(image_dimensions[0]))\n",
        "print('The reminder of the indices indicate the size of your matrix depending on the number of dimensions.')\n",
        "print(image_dimensions)\n",
        "\n",
        "# note that the header information should also match the size of the numpy array. let's check this!\n",
        "print(subject001_X_volume.shape)\n",
        "\n",
        "# let's also print the voxel dimensions\n",
        "print(image_voxeldimensions) #note that you can ignore the first entry and note that the units here are in mm"
      ],
      "metadata": {
        "id": "SrDEh-wX9DU5"
      },
      "execution_count": null,
      "outputs": []
    },
    {
      "cell_type": "markdown",
      "source": [
        "**Question 2: What size matrix is this dataset (e.g. 2D or 3D)? How many voxels are there? What is the spatial resolution?**\n",
        "\n",
        "\n",
        "\n",
        "YOUR ANSWER: *fill in*\n",
        "\n",
        "**Question 3: What is the field of view (check your units!)?**\n",
        "\n",
        "\n",
        "\n",
        "YOUR ANSWER: *fill in*"
      ],
      "metadata": {
        "id": "h-Yvb2mC8mOq"
      }
    },
    {
      "cell_type": "code",
      "source": [
        "#let's view what these images look like!\n",
        "sliceA_breathholdX = np.rot90(subject001_X_volume[:,98,:])\n",
        "sliceB_breathholdX = np.rot90(subject001_X_volume[:,:,100])\n",
        "sliceC_breathholdX = np.rot90(subject001_X_volume[63,:,:])\n",
        "\n",
        "\n",
        "#let's view these three slices from this imaging volume\n",
        "plt.imshow(sliceA_breathholdX)\n",
        "plt.show()\n",
        "\n",
        "plt.imshow(sliceB_breathholdX)\n",
        "plt.show()\n",
        "\n",
        "plt.imshow(sliceC_breathholdX)\n",
        "plt.show()"
      ],
      "metadata": {
        "id": "Wk0xbGWGBrat"
      },
      "execution_count": null,
      "outputs": []
    },
    {
      "cell_type": "markdown",
      "source": [
        "**Question 4: What orientation are the three slices in?**\n",
        "\n",
        "YOUR ANSWER:\n",
        "1.   sliceA_breathholdX is in axial/coronal/sagittal orientation\n",
        "2.   sliceB_breathholdX is in axial/coronal/sagittal orientation\n",
        "3.   sliceC_breathholdX is in axial/coronal/sagittal orientation"
      ],
      "metadata": {
        "id": "HAv7SdMVIdUZ"
      }
    },
    {
      "cell_type": "code",
      "source": [
        "#let's now determine and label for the files for their breath hold\n",
        "sliceA_breathholdX = np.rot90(subject001_X_volume[:,98,:])\n",
        "sliceA_breathholdY = np.rot90(subject001_Y_volume[:,98,:])\n",
        "\n",
        "plt.imshow(sliceA_breathholdX)\n",
        "plt.show()\n",
        "\n",
        "plt.imshow(sliceA_breathholdY)\n",
        "plt.show()"
      ],
      "metadata": {
        "id": "8MOTDodQJMA4"
      },
      "execution_count": null,
      "outputs": []
    },
    {
      "cell_type": "markdown",
      "source": [
        "**Question 5: Which file was acquired at inspiration? Expiration?**\n",
        "\n",
        "YOUR ANSWER:\n",
        "\n",
        "subject001_BreathHoldX.nii.gz was taken at inspiration/expiration\n",
        "\n",
        "subject001_BreathHoldY.nii.gz was taken at inspiration/expiration"
      ],
      "metadata": {
        "id": "mHjZI77LJkhj"
      }
    },
    {
      "cell_type": "code",
      "source": [
        "#now let's segment the lungs from the images\n",
        "# if you're interested see this github link for an automatic AI model that will segment lungs from HRCTs: https://github.com/JoHof/lungmask\n",
        "\n",
        "# for today's exercise, the lungs have already been segmented for you and saved as additional files in the folder\n",
        "subject001_X_lungmask = nib.load(folder + 'subject001_BreathHoldX_LungMask.nii.gz').get_fdata()\n",
        "\n",
        "sliceA_breathholdX = np.rot90(subject001_X_volume[:,100,:])\n",
        "sliceA_breathholdY_lungmask = np.rot90(subject001_X_lungmask[:,100,:])\n",
        "\n",
        "plt.imshow(sliceA_breathholdX)\n",
        "plt.show()\n",
        "\n",
        "plt.imshow(sliceA_breathholdY_lungmask)\n",
        "plt.show()\n",
        "\n",
        "# what are the values in the lung mask?\n",
        "print('The unique values in the lung mask are {}'.format(np.unique(sliceA_breathholdY_lungmask)))\n"
      ],
      "metadata": {
        "id": "hrAANeSpM3Eh"
      },
      "execution_count": null,
      "outputs": []
    },
    {
      "cell_type": "markdown",
      "source": [
        "**Question 6: What do you think the different colors represent in this lung mask? Do you think it did a good job at segmenting the lungs?**\n",
        "\n",
        "YOUR ANSWER: fill in"
      ],
      "metadata": {
        "id": "zptBen7hOD_T"
      }
    },
    {
      "cell_type": "markdown",
      "source": [
        "**Question 7: Can you build a pre-processing pipeline?**\n",
        "For this question, you will need to fill in the code for the following 3 cells that will:\n",
        "1.   segment the lungs\n",
        "2.   resample the resolution to 4 x 4 x 4 mm^3\n",
        "3.   normalize the pixel values from 0 to 1"
      ],
      "metadata": {
        "id": "1HjUNIIWSFUm"
      }
    },
    {
      "cell_type": "code",
      "source": [
        "# Question 7, part 1: segment the lungs\n",
        "# HINT: right now the lung mask holds 3 unique values 0, 1, 2.\n",
        "# First, change this so everything that is not lung is 0 and everything that is lung is 1\n",
        "# Second, multiple the two numpy arrays together such that you only lung tissue in the end\n",
        "\n",
        "\n",
        "# FILL IN YOUR CODE"
      ],
      "metadata": {
        "id": "tN8NkT_vSgWf"
      },
      "execution_count": null,
      "outputs": []
    },
    {
      "cell_type": "code",
      "source": [
        "# Question 7, part 2: resample the resolution to 4 x 4 x 4 mm^3\n",
        "# HINT: use the zoom function from scipy\n",
        "# https://docs.scipy.org/doc/scipy/reference/generated/scipy.ndimage.zoom.html#scipy.ndimage.zoom\n",
        "\n",
        "# FILL IN YOUR CODE"
      ],
      "metadata": {
        "id": "QuQpQt8BS8hO"
      },
      "execution_count": null,
      "outputs": []
    },
    {
      "cell_type": "code",
      "source": [
        "# Question 7, part 3: normalize the pixel values from 0 to 1\n",
        "# HINT: Find the min and max pixel values to scale accordingly\n",
        "\n",
        "# FILL IN YOUR CODE"
      ],
      "metadata": {
        "id": "Bh6Kgh4WTOY5"
      },
      "execution_count": null,
      "outputs": []
    }
  ],
  "metadata": {
    "accelerator": "TPU",
    "colab": {
      "provenance": [],
      "gpuType": "V28"
    },
    "kernelspec": {
      "display_name": "Python 3",
      "name": "python3"
    },
    "language_info": {
      "codemirror_mode": {
        "name": "ipython",
        "version": 3
      },
      "file_extension": ".py",
      "mimetype": "text/x-python",
      "name": "python",
      "nbconvert_exporter": "python",
      "pygments_lexer": "ipython3",
      "version": "3.10.9"
    }
  },
  "nbformat": 4,
  "nbformat_minor": 0
}